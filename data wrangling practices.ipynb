{
 "cells": [
  {
   "cell_type": "code",
   "execution_count": 1,
   "id": "37bf9eff",
   "metadata": {},
   "outputs": [],
   "source": [
    "#import pandas and data\n",
    "import pandas as pd\n",
    "prices = pd.read_csv('prices.csv')\n",
    "sales = pd.read_csv('sales.csv')"
   ]
  },
  {
   "cell_type": "code",
   "execution_count": 2,
   "id": "d3d7390c",
   "metadata": {},
   "outputs": [],
   "source": [
    "#convert to datetime\n",
    "prices[\"updated_time\"] = pd.to_datetime(prices[\"updated_at\"])\n",
    "sales[\"ordered_time\"] = pd.to_datetime(sales[\"ordered_at\"])\n"
   ]
  },
  {
   "cell_type": "code",
   "execution_count": 3,
   "id": "882d1f2d",
   "metadata": {},
   "outputs": [],
   "source": [
    "#create original_prices table\n",
    "product_mintime1 = prices.groupby('product_id')['updated_time'].min()\n",
    "product_mintime = product_mintime1.to_frame()\n",
    "prices_mintime = product_mintime.merge(prices, on=['product_id', 'updated_time'])\n",
    "prices_mintime['updated_time_1800'] = pd.to_datetime('2000-09-10 16:37:00')\n",
    "original_prices = prices_mintime[['product_id', 'old_price', 'updated_time_1800']]\n",
    "#rename columns' name of original_prices table\n",
    "original_prices.columns = ['product_id', 'new_price', 'updated_time']\n"
   ]
  },
  {
   "cell_type": "code",
   "execution_count": 4,
   "id": "19222360",
   "metadata": {},
   "outputs": [],
   "source": [
    "#concat prices and original_prices table => full_prices\n",
    "full_prices = pd.concat([prices[['product_id', 'new_price', 'updated_time']], original_prices])\n"
   ]
  },
  {
   "cell_type": "code",
   "execution_count": 5,
   "id": "3cceee68",
   "metadata": {},
   "outputs": [],
   "source": [
    "#sort values in full_prices and sales tables to use asof\n",
    "s_full_prices = full_prices.sort_values('updated_time')\n",
    "s_sales = sales.sort_values('ordered_time')\n",
    "#create sales_prices by joining sales and prices data\n",
    "sales_prices = pd.merge_asof(s_sales, s_full_prices, left_on='ordered_time', right_on='updated_time', by=\"product_id\")"
   ]
  },
  {
   "cell_type": "code",
   "execution_count": 6,
   "id": "f6651ce0",
   "metadata": {},
   "outputs": [],
   "source": [
    "#sum revenue for each product at each price\n",
    "sales_prices['revenue'] = sales_prices['quantity_ordered'] * sales_prices['new_price']\n",
    "revenue = sales_prices.groupby(['product_id', 'new_price'])['revenue'].sum()\n"
   ]
  },
  {
   "cell_type": "code",
   "execution_count": 7,
   "id": "5ece7011",
   "metadata": {},
   "outputs": [
    {
     "name": "stdout",
     "output_type": "stream",
     "text": [
      "product_id  new_price\n",
      "64          239000        956000\n",
      "3954203     57500          57500\n",
      "            60000         180000\n",
      "            64000         640000\n",
      "3998909     15500          15500\n",
      "            16500         231000\n",
      "            17000          34000\n",
      "4085861     52000        1040000\n",
      "            53500        2140000\n",
      "            58000        2204000\n",
      "            60000         180000\n",
      "            62500        1812500\n",
      "            67000         871000\n",
      "Name: revenue, dtype: int64\n"
     ]
    }
   ],
   "source": [
    "print(revenue)"
   ]
  },
  {
   "cell_type": "code",
   "execution_count": null,
   "id": "7f0becf6",
   "metadata": {},
   "outputs": [],
   "source": []
  }
 ],
 "metadata": {
  "kernelspec": {
   "display_name": "Python 3 (ipykernel)",
   "language": "python",
   "name": "python3"
  },
  "language_info": {
   "codemirror_mode": {
    "name": "ipython",
    "version": 3
   },
   "file_extension": ".py",
   "mimetype": "text/x-python",
   "name": "python",
   "nbconvert_exporter": "python",
   "pygments_lexer": "ipython3",
   "version": "3.9.12"
  }
 },
 "nbformat": 4,
 "nbformat_minor": 5
}
