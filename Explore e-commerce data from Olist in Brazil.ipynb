{
 "cells": [
  {
   "cell_type": "markdown",
   "id": "c642a5db",
   "metadata": {},
   "source": [
    "# OLIST ECOMMERCE ANALYSIS"
   ]
  },
  {
   "cell_type": "markdown",
   "id": "f7f85135",
   "metadata": {},
   "source": [
    "I. Dataset\n",
    "\n",
    "This is a Brazilian ecommerce public dataset of orders made at Olist Store. The dataset has information of 100k orders from 2016 to 2018 made at multiple marketplaces in Brazil. Its features allows viewing an order from multiple dimensions: from order status, price, payment and freight performance to customer location, product attributes and finally reviews written by customers.There's also a geolocation dataset that relates Brazilian zip codes to lat/lng coordinates.\n",
    "Link: https://www.kaggle.com/datasets/olistbr/brazilian-ecommerce/code?datasetId=55151&sortBy=voteCount"
   ]
  },
  {
   "cell_type": "markdown",
   "id": "7b66994f",
   "metadata": {},
   "source": [
    "II. An overview from the data\n"
   ]
  },
  {
   "cell_type": "code",
   "execution_count": 1,
   "id": "205621c9",
   "metadata": {},
   "outputs": [],
   "source": [
    "# Libraries\n",
    "\n",
    "import pandas as pd\n",
    "import numpy as np\n",
    "import matplotlib.pyplot as plt\n",
    "import seaborn as sns\n",
    "import datetime as dt"
   ]
  },
  {
   "cell_type": "code",
   "execution_count": 2,
   "id": "49c4adcf",
   "metadata": {},
   "outputs": [],
   "source": [
    "# Reading all the files\n",
    "\n",
    "orders = pd.read_csv(r'C:\\Users\\PC\\Desktop\\olist_orders_dataset.csv')\n",
    "items = pd.read_csv(r'C:\\Users\\PC\\Desktop\\olist_order_items_dataset.csv')\n",
    "customer = pd.read_csv(r'C:\\Users\\PC\\Desktop\\olist_customers_dataset.csv')\n",
    "payments = pd.read_csv(r'C:\\Users\\PC\\Desktop\\olist_order_payments_dataset.csv')\n",
    "reviews = pd.read_csv(r'C:\\Users\\PC\\Desktop\\olist_order_reviews_dataset.csv')\n",
    "products = pd.read_csv(r'C:\\Users\\PC\\Desktop\\olist_products_dataset.csv')\n",
    "sellers = pd.read_csv(r'C:\\Users\\PC\\Desktop\\olist_sellers_dataset.csv')\n",
    "geolocation = pd.read_csv(r'C:\\Users\\PC\\Desktop\\olist_geolocation_dataset.csv')"
   ]
  },
  {
   "cell_type": "markdown",
   "id": "15b6b1fa",
   "metadata": {},
   "source": [
    "1. Orders table:"
   ]
  },
  {
   "cell_type": "code",
   "execution_count": 3,
   "id": "181977d2",
   "metadata": {},
   "outputs": [
    {
     "name": "stdout",
     "output_type": "stream",
     "text": [
      "<class 'pandas.core.frame.DataFrame'>\n",
      "RangeIndex: 99441 entries, 0 to 99440\n",
      "Data columns (total 8 columns):\n",
      " #   Column                         Non-Null Count  Dtype \n",
      "---  ------                         --------------  ----- \n",
      " 0   order_id                       99441 non-null  object\n",
      " 1   customer_id                    99441 non-null  object\n",
      " 2   order_status                   99441 non-null  object\n",
      " 3   order_purchase_timestamp       99441 non-null  object\n",
      " 4   order_approved_at              99281 non-null  object\n",
      " 5   order_delivered_carrier_date   97658 non-null  object\n",
      " 6   order_delivered_customer_date  96476 non-null  object\n",
      " 7   order_estimated_delivery_date  99441 non-null  object\n",
      "dtypes: object(8)\n",
      "memory usage: 6.1+ MB\n"
     ]
    }
   ],
   "source": [
    "orders.info()"
   ]
  },
  {
   "cell_type": "markdown",
   "id": "9d48b6b4",
   "metadata": {},
   "source": [
    "There are some null values at 3 columns: order_approved_at; order_delivered_carrier_date; order_delivered_customer_date. This could be at the time of the dataset, there is no availabe record for these values. "
   ]
  },
  {
   "cell_type": "code",
   "execution_count": 4,
   "id": "4e779796",
   "metadata": {},
   "outputs": [
    {
     "name": "stdout",
     "output_type": "stream",
     "text": [
      "<class 'pandas.core.frame.DataFrame'>\n",
      "RangeIndex: 99441 entries, 0 to 99440\n",
      "Data columns (total 8 columns):\n",
      " #   Column                         Non-Null Count  Dtype         \n",
      "---  ------                         --------------  -----         \n",
      " 0   order_id                       99441 non-null  object        \n",
      " 1   customer_id                    99441 non-null  object        \n",
      " 2   order_status                   99441 non-null  object        \n",
      " 3   order_purchase_timestamp       99441 non-null  datetime64[ns]\n",
      " 4   order_approved_at              99281 non-null  datetime64[ns]\n",
      " 5   order_delivered_carrier_date   97658 non-null  datetime64[ns]\n",
      " 6   order_delivered_customer_date  96476 non-null  datetime64[ns]\n",
      " 7   order_estimated_delivery_date  99441 non-null  datetime64[ns]\n",
      "dtypes: datetime64[ns](5), object(3)\n",
      "memory usage: 6.1+ MB\n"
     ]
    }
   ],
   "source": [
    "# Change data type for date-time columns\n",
    "orders['order_purchase_timestamp'] = pd.to_datetime(orders['order_purchase_timestamp'])\n",
    "orders['order_approved_at'] = pd.to_datetime(orders['order_approved_at'])\n",
    "orders['order_delivered_carrier_date'] = pd.to_datetime(orders['order_delivered_carrier_date'])\n",
    "orders['order_delivered_customer_date'] = pd.to_datetime(orders['order_delivered_customer_date'])\n",
    "orders['order_estimated_delivery_date'] = pd.to_datetime(orders['order_estimated_delivery_date'])\n",
    "orders.info()"
   ]
  },
  {
   "cell_type": "code",
   "execution_count": 5,
   "id": "da0b992d",
   "metadata": {
    "scrolled": true
   },
   "outputs": [
    {
     "data": {
      "text/html": [
       "<div>\n",
       "<style scoped>\n",
       "    .dataframe tbody tr th:only-of-type {\n",
       "        vertical-align: middle;\n",
       "    }\n",
       "\n",
       "    .dataframe tbody tr th {\n",
       "        vertical-align: top;\n",
       "    }\n",
       "\n",
       "    .dataframe thead th {\n",
       "        text-align: right;\n",
       "    }\n",
       "</style>\n",
       "<table border=\"1\" class=\"dataframe\">\n",
       "  <thead>\n",
       "    <tr style=\"text-align: right;\">\n",
       "      <th></th>\n",
       "      <th>order_id</th>\n",
       "      <th>customer_id</th>\n",
       "      <th>order_status</th>\n",
       "      <th>order_purchase_timestamp</th>\n",
       "      <th>order_approved_at</th>\n",
       "      <th>order_delivered_carrier_date</th>\n",
       "      <th>order_delivered_customer_date</th>\n",
       "      <th>order_estimated_delivery_date</th>\n",
       "    </tr>\n",
       "  </thead>\n",
       "  <tbody>\n",
       "    <tr>\n",
       "      <th>count</th>\n",
       "      <td>99441</td>\n",
       "      <td>99441</td>\n",
       "      <td>99441</td>\n",
       "      <td>99441</td>\n",
       "      <td>99281</td>\n",
       "      <td>97658</td>\n",
       "      <td>96476</td>\n",
       "      <td>99441</td>\n",
       "    </tr>\n",
       "    <tr>\n",
       "      <th>unique</th>\n",
       "      <td>99441</td>\n",
       "      <td>99441</td>\n",
       "      <td>8</td>\n",
       "      <td>NaN</td>\n",
       "      <td>NaN</td>\n",
       "      <td>NaN</td>\n",
       "      <td>NaN</td>\n",
       "      <td>NaN</td>\n",
       "    </tr>\n",
       "    <tr>\n",
       "      <th>top</th>\n",
       "      <td>e481f51cbdc54678b7cc49136f2d6af7</td>\n",
       "      <td>9ef432eb6251297304e76186b10a928d</td>\n",
       "      <td>delivered</td>\n",
       "      <td>NaN</td>\n",
       "      <td>NaN</td>\n",
       "      <td>NaN</td>\n",
       "      <td>NaN</td>\n",
       "      <td>NaN</td>\n",
       "    </tr>\n",
       "    <tr>\n",
       "      <th>freq</th>\n",
       "      <td>1</td>\n",
       "      <td>1</td>\n",
       "      <td>96478</td>\n",
       "      <td>NaN</td>\n",
       "      <td>NaN</td>\n",
       "      <td>NaN</td>\n",
       "      <td>NaN</td>\n",
       "      <td>NaN</td>\n",
       "    </tr>\n",
       "    <tr>\n",
       "      <th>mean</th>\n",
       "      <td>NaN</td>\n",
       "      <td>NaN</td>\n",
       "      <td>NaN</td>\n",
       "      <td>2017-12-31 08:43:12.776581120</td>\n",
       "      <td>2017-12-31 18:35:24.098800128</td>\n",
       "      <td>2018-01-04 21:49:48.138278656</td>\n",
       "      <td>2018-01-14 12:09:19.035542272</td>\n",
       "      <td>2018-01-24 03:08:37.730111232</td>\n",
       "    </tr>\n",
       "    <tr>\n",
       "      <th>min</th>\n",
       "      <td>NaN</td>\n",
       "      <td>NaN</td>\n",
       "      <td>NaN</td>\n",
       "      <td>2016-09-04 21:15:19</td>\n",
       "      <td>2016-09-15 12:16:38</td>\n",
       "      <td>2016-10-08 10:34:01</td>\n",
       "      <td>2016-10-11 13:46:32</td>\n",
       "      <td>2016-09-30 00:00:00</td>\n",
       "    </tr>\n",
       "    <tr>\n",
       "      <th>25%</th>\n",
       "      <td>NaN</td>\n",
       "      <td>NaN</td>\n",
       "      <td>NaN</td>\n",
       "      <td>2017-09-12 14:46:19</td>\n",
       "      <td>2017-09-12 23:24:16</td>\n",
       "      <td>2017-09-15 22:28:50.249999872</td>\n",
       "      <td>2017-09-25 22:07:22.249999872</td>\n",
       "      <td>2017-10-03 00:00:00</td>\n",
       "    </tr>\n",
       "    <tr>\n",
       "      <th>50%</th>\n",
       "      <td>NaN</td>\n",
       "      <td>NaN</td>\n",
       "      <td>NaN</td>\n",
       "      <td>2018-01-18 23:04:36</td>\n",
       "      <td>2018-01-19 11:36:13</td>\n",
       "      <td>2018-01-24 16:10:58</td>\n",
       "      <td>2018-02-02 19:28:10.500000</td>\n",
       "      <td>2018-02-15 00:00:00</td>\n",
       "    </tr>\n",
       "    <tr>\n",
       "      <th>75%</th>\n",
       "      <td>NaN</td>\n",
       "      <td>NaN</td>\n",
       "      <td>NaN</td>\n",
       "      <td>2018-05-04 15:42:16</td>\n",
       "      <td>2018-05-04 20:35:10</td>\n",
       "      <td>2018-05-08 13:37:45</td>\n",
       "      <td>2018-05-15 22:48:52.249999872</td>\n",
       "      <td>2018-05-25 00:00:00</td>\n",
       "    </tr>\n",
       "    <tr>\n",
       "      <th>max</th>\n",
       "      <td>NaN</td>\n",
       "      <td>NaN</td>\n",
       "      <td>NaN</td>\n",
       "      <td>2018-10-17 17:30:18</td>\n",
       "      <td>2018-09-03 17:40:06</td>\n",
       "      <td>2018-09-11 19:48:28</td>\n",
       "      <td>2018-10-17 13:22:46</td>\n",
       "      <td>2018-11-12 00:00:00</td>\n",
       "    </tr>\n",
       "  </tbody>\n",
       "</table>\n",
       "</div>"
      ],
      "text/plain": [
       "                                order_id                       customer_id  \\\n",
       "count                              99441                             99441   \n",
       "unique                             99441                             99441   \n",
       "top     e481f51cbdc54678b7cc49136f2d6af7  9ef432eb6251297304e76186b10a928d   \n",
       "freq                                   1                                 1   \n",
       "mean                                 NaN                               NaN   \n",
       "min                                  NaN                               NaN   \n",
       "25%                                  NaN                               NaN   \n",
       "50%                                  NaN                               NaN   \n",
       "75%                                  NaN                               NaN   \n",
       "max                                  NaN                               NaN   \n",
       "\n",
       "       order_status       order_purchase_timestamp  \\\n",
       "count         99441                          99441   \n",
       "unique            8                            NaN   \n",
       "top       delivered                            NaN   \n",
       "freq          96478                            NaN   \n",
       "mean            NaN  2017-12-31 08:43:12.776581120   \n",
       "min             NaN            2016-09-04 21:15:19   \n",
       "25%             NaN            2017-09-12 14:46:19   \n",
       "50%             NaN            2018-01-18 23:04:36   \n",
       "75%             NaN            2018-05-04 15:42:16   \n",
       "max             NaN            2018-10-17 17:30:18   \n",
       "\n",
       "                    order_approved_at   order_delivered_carrier_date  \\\n",
       "count                           99281                          97658   \n",
       "unique                            NaN                            NaN   \n",
       "top                               NaN                            NaN   \n",
       "freq                              NaN                            NaN   \n",
       "mean    2017-12-31 18:35:24.098800128  2018-01-04 21:49:48.138278656   \n",
       "min               2016-09-15 12:16:38            2016-10-08 10:34:01   \n",
       "25%               2017-09-12 23:24:16  2017-09-15 22:28:50.249999872   \n",
       "50%               2018-01-19 11:36:13            2018-01-24 16:10:58   \n",
       "75%               2018-05-04 20:35:10            2018-05-08 13:37:45   \n",
       "max               2018-09-03 17:40:06            2018-09-11 19:48:28   \n",
       "\n",
       "        order_delivered_customer_date  order_estimated_delivery_date  \n",
       "count                           96476                          99441  \n",
       "unique                            NaN                            NaN  \n",
       "top                               NaN                            NaN  \n",
       "freq                              NaN                            NaN  \n",
       "mean    2018-01-14 12:09:19.035542272  2018-01-24 03:08:37.730111232  \n",
       "min               2016-10-11 13:46:32            2016-09-30 00:00:00  \n",
       "25%     2017-09-25 22:07:22.249999872            2017-10-03 00:00:00  \n",
       "50%        2018-02-02 19:28:10.500000            2018-02-15 00:00:00  \n",
       "75%     2018-05-15 22:48:52.249999872            2018-05-25 00:00:00  \n",
       "max               2018-10-17 13:22:46            2018-11-12 00:00:00  "
      ]
     },
     "execution_count": 5,
     "metadata": {},
     "output_type": "execute_result"
    }
   ],
   "source": [
    "orders.describe(include='all', datetime_is_numeric=True)"
   ]
  },
  {
   "cell_type": "code",
   "execution_count": 6,
   "id": "b1dbd2a0",
   "metadata": {},
   "outputs": [
    {
     "data": {
      "text/plain": [
       "order_status\n",
       "approved           2\n",
       "created            5\n",
       "processing       301\n",
       "invoiced         314\n",
       "unavailable      609\n",
       "canceled         625\n",
       "shipped         1107\n",
       "delivered      96478\n",
       "Name: order_status, dtype: int64"
      ]
     },
     "execution_count": 6,
     "metadata": {},
     "output_type": "execute_result"
    }
   ],
   "source": [
    "#Unique values of order_status\n",
    "orders.groupby('order_status')['order_status'].count().sort_values()"
   ]
  },
  {
   "cell_type": "markdown",
   "id": "b02cf6a0",
   "metadata": {},
   "source": [
    "The major order status at this time of this dataset is 'delivered'."
   ]
  },
  {
   "cell_type": "code",
   "execution_count": 7,
   "id": "5f4b60d8",
   "metadata": {},
   "outputs": [
    {
     "data": {
      "text/plain": [
       "<AxesSubplot:xlabel='month'>"
      ]
     },
     "execution_count": 7,
     "metadata": {},
     "output_type": "execute_result"
    },
    {
     "data": {
      "image/png": "[encoded data removed]",
      "text/plain": [
       "<Figure size 432x288 with 1 Axes>"
      ]
     },
     "metadata": {
      "needs_background": "light"
     },
     "output_type": "display_data"
    }
   ],
   "source": [
    "#orders by time, based on order_purchase_timestamp\n",
    "orders['month'] = orders['order_purchase_timestamp'].dt.to_period('M')\n",
    "orders.groupby('month')['order_id'].count().plot(kind='line')"
   ]
  },
  {
   "cell_type": "code",
   "execution_count": 8,
   "id": "a6288009",
   "metadata": {
    "scrolled": true
   },
   "outputs": [
    {
     "data": {
      "text/plain": [
       "month\n",
       "2016-09       4\n",
       "2016-10     324\n",
       "2016-12       1\n",
       "2017-01     800\n",
       "2017-02    1780\n",
       "2017-03    2682\n",
       "2017-04    2404\n",
       "2017-05    3700\n",
       "2017-06    3245\n",
       "2017-07    4026\n",
       "2017-08    4331\n",
       "2017-09    4285\n",
       "2017-10    4631\n",
       "2017-11    7544\n",
       "2017-12    5673\n",
       "2018-01    7269\n",
       "2018-02    6728\n",
       "2018-03    7211\n",
       "2018-04    6939\n",
       "2018-05    6873\n",
       "2018-06    6167\n",
       "2018-07    6292\n",
       "2018-08    6512\n",
       "2018-09      16\n",
       "2018-10       4\n",
       "Freq: M, Name: order_id, dtype: int64"
      ]
     },
     "execution_count": 8,
     "metadata": {},
     "output_type": "execute_result"
    }
   ],
   "source": [
    "orders.groupby('month')['order_id'].count()"
   ]
  },
  {
   "cell_type": "markdown",
   "id": "e15db347",
   "metadata": {},
   "source": [
    "There are a sharp decrease between August 2018 and September 2018 and extremely low number of orders in 2016. Maybe the origin of that is related to noise on data. For further analysis, let's just consider data from 2017-01 to 2018-08."
   ]
  },
  {
   "cell_type": "markdown",
   "id": "aa0ac861",
   "metadata": {},
   "source": [
    "2. Items table"
   ]
  },
  {
   "cell_type": "code",
   "execution_count": 9,
   "id": "55ba5958",
   "metadata": {},
   "outputs": [
    {
     "name": "stdout",
     "output_type": "stream",
     "text": [
      "<class 'pandas.core.frame.DataFrame'>\n",
      "RangeIndex: 112650 entries, 0 to 112649\n",
      "Data columns (total 7 columns):\n",
      " #   Column               Non-Null Count   Dtype  \n",
      "---  ------               --------------   -----  \n",
      " 0   order_id             112650 non-null  object \n",
      " 1   order_item_id        112650 non-null  int64  \n",
      " 2   product_id           112650 non-null  object \n",
      " 3   seller_id            112650 non-null  object \n",
      " 4   shipping_limit_date  112650 non-null  object \n",
      " 5   price                112650 non-null  float64\n",
      " 6   freight_value        112650 non-null  float64\n",
      "dtypes: float64(2), int64(1), object(4)\n",
      "memory usage: 6.0+ MB\n"
     ]
    }
   ],
   "source": [
    "items.info()"
   ]
  },
  {
   "cell_type": "code",
   "execution_count": 10,
   "id": "d6da32a0",
   "metadata": {},
   "outputs": [],
   "source": [
    "# Change data type for date-time columns\n",
    "items['shipping_limit_date'] = pd.to_datetime(items['shipping_limit_date'])"
   ]
  },
  {
   "cell_type": "code",
   "execution_count": 11,
   "id": "8f43e273",
   "metadata": {},
   "outputs": [
    {
     "data": {
      "text/html": [
       "<div>\n",
       "<style scoped>\n",
       "    .dataframe tbody tr th:only-of-type {\n",
       "        vertical-align: middle;\n",
       "    }\n",
       "\n",
       "    .dataframe tbody tr th {\n",
       "        vertical-align: top;\n",
       "    }\n",
       "\n",
       "    .dataframe thead th {\n",
       "        text-align: right;\n",
       "    }\n",
       "</style>\n",
       "<table border=\"1\" class=\"dataframe\">\n",
       "  <thead>\n",
       "    <tr style=\"text-align: right;\">\n",
       "      <th></th>\n",
       "      <th>order_id</th>\n",
       "      <th>product_id</th>\n",
       "      <th>seller_id</th>\n",
       "    </tr>\n",
       "  </thead>\n",
       "  <tbody>\n",
       "    <tr>\n",
       "      <th>count</th>\n",
       "      <td>112650</td>\n",
       "      <td>112650</td>\n",
       "      <td>112650</td>\n",
       "    </tr>\n",
       "    <tr>\n",
       "      <th>unique</th>\n",
       "      <td>98666</td>\n",
       "      <td>32951</td>\n",
       "      <td>3095</td>\n",
       "    </tr>\n",
       "    <tr>\n",
       "      <th>top</th>\n",
       "      <td>8272b63d03f5f79c56e9e4120aec44ef</td>\n",
       "      <td>aca2eb7d00ea1a7b8ebd4e68314663af</td>\n",
       "      <td>6560211a19b47992c3666cc44a7e94c0</td>\n",
       "    </tr>\n",
       "    <tr>\n",
       "      <th>freq</th>\n",
       "      <td>21</td>\n",
       "      <td>527</td>\n",
       "      <td>2033</td>\n",
       "    </tr>\n",
       "  </tbody>\n",
       "</table>\n",
       "</div>"
      ],
      "text/plain": [
       "                                order_id                        product_id  \\\n",
       "count                             112650                            112650   \n",
       "unique                             98666                             32951   \n",
       "top     8272b63d03f5f79c56e9e4120aec44ef  aca2eb7d00ea1a7b8ebd4e68314663af   \n",
       "freq                                  21                               527   \n",
       "\n",
       "                               seller_id  \n",
       "count                             112650  \n",
       "unique                              3095  \n",
       "top     6560211a19b47992c3666cc44a7e94c0  \n",
       "freq                                2033  "
      ]
     },
     "execution_count": 11,
     "metadata": {},
     "output_type": "execute_result"
    }
   ],
   "source": [
    "items.describe(include='object')"
   ]
  },
  {
   "cell_type": "markdown",
   "id": "95f350dc",
   "metadata": {},
   "source": [
    "The number of orders in this table is less than in the orders table."
   ]
  },
  {
   "cell_type": "code",
   "execution_count": 12,
   "id": "a68ba31a",
   "metadata": {
    "scrolled": true
   },
   "outputs": [
    {
     "data": {
      "text/html": [
       "<div>\n",
       "<style scoped>\n",
       "    .dataframe tbody tr th:only-of-type {\n",
       "        vertical-align: middle;\n",
       "    }\n",
       "\n",
       "    .dataframe tbody tr th {\n",
       "        vertical-align: top;\n",
       "    }\n",
       "\n",
       "    .dataframe thead th {\n",
       "        text-align: right;\n",
       "    }\n",
       "</style>\n",
       "<table border=\"1\" class=\"dataframe\">\n",
       "  <thead>\n",
       "    <tr style=\"text-align: right;\">\n",
       "      <th></th>\n",
       "      <th>order_item_id</th>\n",
       "      <th>price</th>\n",
       "      <th>freight_value</th>\n",
       "    </tr>\n",
       "  </thead>\n",
       "  <tbody>\n",
       "    <tr>\n",
       "      <th>count</th>\n",
       "      <td>112650.000000</td>\n",
       "      <td>112650.000000</td>\n",
       "      <td>112650.000000</td>\n",
       "    </tr>\n",
       "    <tr>\n",
       "      <th>mean</th>\n",
       "      <td>1.197834</td>\n",
       "      <td>120.653739</td>\n",
       "      <td>19.990320</td>\n",
       "    </tr>\n",
       "    <tr>\n",
       "      <th>std</th>\n",
       "      <td>0.705124</td>\n",
       "      <td>183.633928</td>\n",
       "      <td>15.806405</td>\n",
       "    </tr>\n",
       "    <tr>\n",
       "      <th>min</th>\n",
       "      <td>1.000000</td>\n",
       "      <td>0.850000</td>\n",
       "      <td>0.000000</td>\n",
       "    </tr>\n",
       "    <tr>\n",
       "      <th>25%</th>\n",
       "      <td>1.000000</td>\n",
       "      <td>39.900000</td>\n",
       "      <td>13.080000</td>\n",
       "    </tr>\n",
       "    <tr>\n",
       "      <th>50%</th>\n",
       "      <td>1.000000</td>\n",
       "      <td>74.990000</td>\n",
       "      <td>16.260000</td>\n",
       "    </tr>\n",
       "    <tr>\n",
       "      <th>75%</th>\n",
       "      <td>1.000000</td>\n",
       "      <td>134.900000</td>\n",
       "      <td>21.150000</td>\n",
       "    </tr>\n",
       "    <tr>\n",
       "      <th>max</th>\n",
       "      <td>21.000000</td>\n",
       "      <td>6735.000000</td>\n",
       "      <td>409.680000</td>\n",
       "    </tr>\n",
       "  </tbody>\n",
       "</table>\n",
       "</div>"
      ],
      "text/plain": [
       "       order_item_id          price  freight_value\n",
       "count  112650.000000  112650.000000  112650.000000\n",
       "mean        1.197834     120.653739      19.990320\n",
       "std         0.705124     183.633928      15.806405\n",
       "min         1.000000       0.850000       0.000000\n",
       "25%         1.000000      39.900000      13.080000\n",
       "50%         1.000000      74.990000      16.260000\n",
       "75%         1.000000     134.900000      21.150000\n",
       "max        21.000000    6735.000000     409.680000"
      ]
     },
     "execution_count": 12,
     "metadata": {},
     "output_type": "execute_result"
    }
   ],
   "source": [
    "items.describe()"
   ]
  },
  {
   "cell_type": "code",
   "execution_count": 13,
   "id": "d7d80712",
   "metadata": {},
   "outputs": [
    {
     "data": {
      "text/plain": [
       "<AxesSubplot:xlabel='order_item_id'>"
      ]
     },
     "execution_count": 13,
     "metadata": {},
     "output_type": "execute_result"
    },
    {
     "data": {
      "image/png": "[encoded data removed]",
      "text/plain": [
       "<Figure size 432x288 with 1 Axes>"
      ]
     },
     "metadata": {
      "needs_background": "light"
     },
     "output_type": "display_data"
    }
   ],
   "source": [
    "#Unique values of order_item_id\n",
    "items.groupby('order_item_id')['order_item_id'].count().sort_values(ascending=False).plot(kind='bar')"
   ]
  },
  {
   "cell_type": "markdown",
   "id": "ac3e2058",
   "metadata": {},
   "source": [
    "Almost orders are for only 1 product."
   ]
  },
  {
   "cell_type": "markdown",
   "id": "5a30ecb9",
   "metadata": {},
   "source": [
    "3. Customers"
   ]
  },
  {
   "cell_type": "code",
   "execution_count": 14,
   "id": "9c370a3f",
   "metadata": {},
   "outputs": [
    {
     "name": "stdout",
     "output_type": "stream",
     "text": [
      "<class 'pandas.core.frame.DataFrame'>\n",
      "RangeIndex: 99441 entries, 0 to 99440\n",
      "Data columns (total 5 columns):\n",
      " #   Column                    Non-Null Count  Dtype \n",
      "---  ------                    --------------  ----- \n",
      " 0   customer_id               99441 non-null  object\n",
      " 1   customer_unique_id        99441 non-null  object\n",
      " 2   customer_zip_code_prefix  99441 non-null  int64 \n",
      " 3   customer_city             99441 non-null  object\n",
      " 4   customer_state            99441 non-null  object\n",
      "dtypes: int64(1), object(4)\n",
      "memory usage: 3.8+ MB\n"
     ]
    }
   ],
   "source": [
    "customer.info()"
   ]
  },
  {
   "cell_type": "code",
   "execution_count": 15,
   "id": "50fae60c",
   "metadata": {
    "scrolled": true
   },
   "outputs": [
    {
     "data": {
      "text/html": [
       "<div>\n",
       "<style scoped>\n",
       "    .dataframe tbody tr th:only-of-type {\n",
       "        vertical-align: middle;\n",
       "    }\n",
       "\n",
       "    .dataframe tbody tr th {\n",
       "        vertical-align: top;\n",
       "    }\n",
       "\n",
       "    .dataframe thead th {\n",
       "        text-align: right;\n",
       "    }\n",
       "</style>\n",
       "<table border=\"1\" class=\"dataframe\">\n",
       "  <thead>\n",
       "    <tr style=\"text-align: right;\">\n",
       "      <th></th>\n",
       "      <th>customer_id</th>\n",
       "      <th>customer_unique_id</th>\n",
       "      <th>customer_city</th>\n",
       "      <th>customer_state</th>\n",
       "    </tr>\n",
       "  </thead>\n",
       "  <tbody>\n",
       "    <tr>\n",
       "      <th>count</th>\n",
       "      <td>99441</td>\n",
       "      <td>99441</td>\n",
       "      <td>99441</td>\n",
       "      <td>99441</td>\n",
       "    </tr>\n",
       "    <tr>\n",
       "      <th>unique</th>\n",
       "      <td>99441</td>\n",
       "      <td>96096</td>\n",
       "      <td>4119</td>\n",
       "      <td>27</td>\n",
       "    </tr>\n",
       "    <tr>\n",
       "      <th>top</th>\n",
       "      <td>06b8999e2fba1a1fbc88172c00ba8bc7</td>\n",
       "      <td>8d50f5eadf50201ccdcedfb9e2ac8455</td>\n",
       "      <td>sao paulo</td>\n",
       "      <td>SP</td>\n",
       "    </tr>\n",
       "    <tr>\n",
       "      <th>freq</th>\n",
       "      <td>1</td>\n",
       "      <td>17</td>\n",
       "      <td>15540</td>\n",
       "      <td>41746</td>\n",
       "    </tr>\n",
       "  </tbody>\n",
       "</table>\n",
       "</div>"
      ],
      "text/plain": [
       "                             customer_id                customer_unique_id  \\\n",
       "count                              99441                             99441   \n",
       "unique                             99441                             96096   \n",
       "top     06b8999e2fba1a1fbc88172c00ba8bc7  8d50f5eadf50201ccdcedfb9e2ac8455   \n",
       "freq                                   1                                17   \n",
       "\n",
       "       customer_city customer_state  \n",
       "count          99441          99441  \n",
       "unique          4119             27  \n",
       "top        sao paulo             SP  \n",
       "freq           15540          41746  "
      ]
     },
     "execution_count": 15,
     "metadata": {},
     "output_type": "execute_result"
    }
   ],
   "source": [
    "customer.describe(include='object')"
   ]
  },
  {
   "cell_type": "code",
   "execution_count": 16,
   "id": "95cbe291",
   "metadata": {},
   "outputs": [
    {
     "data": {
      "text/plain": [
       "customer_state\n",
       "SP    41.980672\n",
       "RJ    12.924247\n",
       "MG    11.700405\n",
       "RS     5.496727\n",
       "PR     5.073360\n",
       "SC     3.657445\n",
       "BA     3.399000\n",
       "DF     2.152030\n",
       "ES     2.044428\n",
       "GO     2.031355\n",
       "PE     1.661287\n",
       "CE     1.343510\n",
       "PA     0.980481\n",
       "MT     0.912099\n",
       "MA     0.751199\n",
       "MS     0.719019\n",
       "PB     0.539013\n",
       "PI     0.497783\n",
       "RN     0.487726\n",
       "AL     0.415322\n",
       "SE     0.351967\n",
       "TO     0.281574\n",
       "RO     0.254422\n",
       "AM     0.148832\n",
       "AC     0.081455\n",
       "AP     0.068382\n",
       "RR     0.046259\n",
       "Name: customer_state, dtype: float64"
      ]
     },
     "execution_count": 16,
     "metadata": {},
     "output_type": "execute_result"
    }
   ],
   "source": [
    "#Customer states\n",
    "customer.groupby('customer_state')['customer_state'].count().sort_values(ascending=False) * 100 / 99441 "
   ]
  },
  {
   "cell_type": "markdown",
   "id": "36769480",
   "metadata": {},
   "source": [
    "There are 99441 unique customer_id corresponds to 99441 orders in orders table, 96096 customers in total come from 27 states of Brazil (all states that the country has). Nearly 42% orders with customers come from SP or Sao Paulo."
   ]
  },
  {
   "cell_type": "markdown",
   "id": "e7e20b1d",
   "metadata": {},
   "source": [
    "4. Payment"
   ]
  },
  {
   "cell_type": "code",
   "execution_count": 17,
   "id": "3aafc2c0",
   "metadata": {},
   "outputs": [
    {
     "name": "stdout",
     "output_type": "stream",
     "text": [
      "<class 'pandas.core.frame.DataFrame'>\n",
      "RangeIndex: 103886 entries, 0 to 103885\n",
      "Data columns (total 5 columns):\n",
      " #   Column                Non-Null Count   Dtype  \n",
      "---  ------                --------------   -----  \n",
      " 0   order_id              103886 non-null  object \n",
      " 1   payment_sequential    103886 non-null  int64  \n",
      " 2   payment_type          103886 non-null  object \n",
      " 3   payment_installments  103886 non-null  int64  \n",
      " 4   payment_value         103886 non-null  float64\n",
      "dtypes: float64(1), int64(2), object(2)\n",
      "memory usage: 4.0+ MB\n"
     ]
    }
   ],
   "source": [
    "payments.info()"
   ]
  },
  {
   "cell_type": "code",
   "execution_count": 18,
   "id": "944e3e62",
   "metadata": {},
   "outputs": [
    {
     "data": {
      "text/html": [
       "<div>\n",
       "<style scoped>\n",
       "    .dataframe tbody tr th:only-of-type {\n",
       "        vertical-align: middle;\n",
       "    }\n",
       "\n",
       "    .dataframe tbody tr th {\n",
       "        vertical-align: top;\n",
       "    }\n",
       "\n",
       "    .dataframe thead th {\n",
       "        text-align: right;\n",
       "    }\n",
       "</style>\n",
       "<table border=\"1\" class=\"dataframe\">\n",
       "  <thead>\n",
       "    <tr style=\"text-align: right;\">\n",
       "      <th></th>\n",
       "      <th>payment_sequential</th>\n",
       "      <th>payment_installments</th>\n",
       "      <th>payment_value</th>\n",
       "    </tr>\n",
       "  </thead>\n",
       "  <tbody>\n",
       "    <tr>\n",
       "      <th>count</th>\n",
       "      <td>103886.000000</td>\n",
       "      <td>103886.000000</td>\n",
       "      <td>103886.000000</td>\n",
       "    </tr>\n",
       "    <tr>\n",
       "      <th>mean</th>\n",
       "      <td>1.092679</td>\n",
       "      <td>2.853349</td>\n",
       "      <td>154.100380</td>\n",
       "    </tr>\n",
       "    <tr>\n",
       "      <th>std</th>\n",
       "      <td>0.706584</td>\n",
       "      <td>2.687051</td>\n",
       "      <td>217.494064</td>\n",
       "    </tr>\n",
       "    <tr>\n",
       "      <th>min</th>\n",
       "      <td>1.000000</td>\n",
       "      <td>0.000000</td>\n",
       "      <td>0.000000</td>\n",
       "    </tr>\n",
       "    <tr>\n",
       "      <th>25%</th>\n",
       "      <td>1.000000</td>\n",
       "      <td>1.000000</td>\n",
       "      <td>56.790000</td>\n",
       "    </tr>\n",
       "    <tr>\n",
       "      <th>50%</th>\n",
       "      <td>1.000000</td>\n",
       "      <td>1.000000</td>\n",
       "      <td>100.000000</td>\n",
       "    </tr>\n",
       "    <tr>\n",
       "      <th>75%</th>\n",
       "      <td>1.000000</td>\n",
       "      <td>4.000000</td>\n",
       "      <td>171.837500</td>\n",
       "    </tr>\n",
       "    <tr>\n",
       "      <th>max</th>\n",
       "      <td>29.000000</td>\n",
       "      <td>24.000000</td>\n",
       "      <td>13664.080000</td>\n",
       "    </tr>\n",
       "  </tbody>\n",
       "</table>\n",
       "</div>"
      ],
      "text/plain": [
       "       payment_sequential  payment_installments  payment_value\n",
       "count       103886.000000         103886.000000  103886.000000\n",
       "mean             1.092679              2.853349     154.100380\n",
       "std              0.706584              2.687051     217.494064\n",
       "min              1.000000              0.000000       0.000000\n",
       "25%              1.000000              1.000000      56.790000\n",
       "50%              1.000000              1.000000     100.000000\n",
       "75%              1.000000              4.000000     171.837500\n",
       "max             29.000000             24.000000   13664.080000"
      ]
     },
     "execution_count": 18,
     "metadata": {},
     "output_type": "execute_result"
    }
   ],
   "source": [
    "payments.describe()"
   ]
  },
  {
   "cell_type": "code",
   "execution_count": 19,
   "id": "917160fe",
   "metadata": {},
   "outputs": [
    {
     "data": {
      "text/html": [
       "<div>\n",
       "<style scoped>\n",
       "    .dataframe tbody tr th:only-of-type {\n",
       "        vertical-align: middle;\n",
       "    }\n",
       "\n",
       "    .dataframe tbody tr th {\n",
       "        vertical-align: top;\n",
       "    }\n",
       "\n",
       "    .dataframe thead th {\n",
       "        text-align: right;\n",
       "    }\n",
       "</style>\n",
       "<table border=\"1\" class=\"dataframe\">\n",
       "  <thead>\n",
       "    <tr style=\"text-align: right;\">\n",
       "      <th></th>\n",
       "      <th>order_id</th>\n",
       "      <th>payment_type</th>\n",
       "    </tr>\n",
       "  </thead>\n",
       "  <tbody>\n",
       "    <tr>\n",
       "      <th>count</th>\n",
       "      <td>103886</td>\n",
       "      <td>103886</td>\n",
       "    </tr>\n",
       "    <tr>\n",
       "      <th>unique</th>\n",
       "      <td>99440</td>\n",
       "      <td>5</td>\n",
       "    </tr>\n",
       "    <tr>\n",
       "      <th>top</th>\n",
       "      <td>fa65dad1b0e818e3ccc5cb0e39231352</td>\n",
       "      <td>credit_card</td>\n",
       "    </tr>\n",
       "    <tr>\n",
       "      <th>freq</th>\n",
       "      <td>29</td>\n",
       "      <td>76795</td>\n",
       "    </tr>\n",
       "  </tbody>\n",
       "</table>\n",
       "</div>"
      ],
      "text/plain": [
       "                                order_id payment_type\n",
       "count                             103886       103886\n",
       "unique                             99440            5\n",
       "top     fa65dad1b0e818e3ccc5cb0e39231352  credit_card\n",
       "freq                                  29        76795"
      ]
     },
     "execution_count": 19,
     "metadata": {},
     "output_type": "execute_result"
    }
   ],
   "source": [
    "payments.describe(include='object')"
   ]
  },
  {
   "cell_type": "code",
   "execution_count": 20,
   "id": "537db950",
   "metadata": {
    "scrolled": true
   },
   "outputs": [
    {
     "data": {
      "text/plain": [
       "<AxesSubplot:ylabel='payment_type'>"
      ]
     },
     "execution_count": 20,
     "metadata": {},
     "output_type": "execute_result"
    },
    {
     "data": {
      "image/png": "[encoded data removed]",
      "text/plain": [
       "<Figure size 2880x720 with 1 Axes>"
      ]
     },
     "metadata": {},
     "output_type": "display_data"
    }
   ],
   "source": [
    "plt.figure(figsize=(40,10))\n",
    "payments.groupby('payment_type')['payment_type'].count().sort_values(ascending=False).plot(kind='pie')\n"
   ]
  },
  {
   "cell_type": "markdown",
   "id": "4e47769e",
   "metadata": {},
   "source": [
    "5. Reviews"
   ]
  },
  {
   "cell_type": "code",
   "execution_count": 21,
   "id": "6f8d5d4c",
   "metadata": {},
   "outputs": [
    {
     "name": "stdout",
     "output_type": "stream",
     "text": [
      "<class 'pandas.core.frame.DataFrame'>\n",
      "RangeIndex: 99224 entries, 0 to 99223\n",
      "Data columns (total 7 columns):\n",
      " #   Column                   Non-Null Count  Dtype \n",
      "---  ------                   --------------  ----- \n",
      " 0   review_id                99224 non-null  object\n",
      " 1   order_id                 99224 non-null  object\n",
      " 2   review_score             99224 non-null  int64 \n",
      " 3   review_comment_title     11568 non-null  object\n",
      " 4   review_comment_message   40977 non-null  object\n",
      " 5   review_creation_date     99224 non-null  object\n",
      " 6   review_answer_timestamp  99224 non-null  object\n",
      "dtypes: int64(1), object(6)\n",
      "memory usage: 5.3+ MB\n"
     ]
    }
   ],
   "source": [
    "reviews.info()"
   ]
  },
  {
   "cell_type": "markdown",
   "id": "72986a17",
   "metadata": {},
   "source": [
    "There are some null values at review_comment_title and review_comment_message. Customers may leave only review score."
   ]
  },
  {
   "cell_type": "code",
   "execution_count": 22,
   "id": "d5c84429",
   "metadata": {
    "scrolled": true
   },
   "outputs": [
    {
     "data": {
      "text/html": [
       "<div>\n",
       "<style scoped>\n",
       "    .dataframe tbody tr th:only-of-type {\n",
       "        vertical-align: middle;\n",
       "    }\n",
       "\n",
       "    .dataframe tbody tr th {\n",
       "        vertical-align: top;\n",
       "    }\n",
       "\n",
       "    .dataframe thead th {\n",
       "        text-align: right;\n",
       "    }\n",
       "</style>\n",
       "<table border=\"1\" class=\"dataframe\">\n",
       "  <thead>\n",
       "    <tr style=\"text-align: right;\">\n",
       "      <th></th>\n",
       "      <th>review_id</th>\n",
       "      <th>order_id</th>\n",
       "      <th>review_comment_title</th>\n",
       "      <th>review_comment_message</th>\n",
       "      <th>review_creation_date</th>\n",
       "      <th>review_answer_timestamp</th>\n",
       "    </tr>\n",
       "  </thead>\n",
       "  <tbody>\n",
       "    <tr>\n",
       "      <th>count</th>\n",
       "      <td>99224</td>\n",
       "      <td>99224</td>\n",
       "      <td>11568</td>\n",
       "      <td>40977</td>\n",
       "      <td>99224</td>\n",
       "      <td>99224</td>\n",
       "    </tr>\n",
       "    <tr>\n",
       "      <th>unique</th>\n",
       "      <td>98410</td>\n",
       "      <td>98673</td>\n",
       "      <td>4527</td>\n",
       "      <td>36159</td>\n",
       "      <td>636</td>\n",
       "      <td>98248</td>\n",
       "    </tr>\n",
       "    <tr>\n",
       "      <th>top</th>\n",
       "      <td>7b606b0d57b078384f0b58eac1d41d78</td>\n",
       "      <td>c88b1d1b157a9999ce368f218a407141</td>\n",
       "      <td>Recomendo</td>\n",
       "      <td>Muito bom</td>\n",
       "      <td>2017-12-19 00:00:00</td>\n",
       "      <td>2017-06-15 23:21:05</td>\n",
       "    </tr>\n",
       "    <tr>\n",
       "      <th>freq</th>\n",
       "      <td>3</td>\n",
       "      <td>3</td>\n",
       "      <td>423</td>\n",
       "      <td>230</td>\n",
       "      <td>463</td>\n",
       "      <td>4</td>\n",
       "    </tr>\n",
       "  </tbody>\n",
       "</table>\n",
       "</div>"
      ],
      "text/plain": [
       "                               review_id                          order_id  \\\n",
       "count                              99224                             99224   \n",
       "unique                             98410                             98673   \n",
       "top     7b606b0d57b078384f0b58eac1d41d78  c88b1d1b157a9999ce368f218a407141   \n",
       "freq                                   3                                 3   \n",
       "\n",
       "       review_comment_title review_comment_message review_creation_date  \\\n",
       "count                 11568                  40977                99224   \n",
       "unique                 4527                  36159                  636   \n",
       "top               Recomendo              Muito bom  2017-12-19 00:00:00   \n",
       "freq                    423                    230                  463   \n",
       "\n",
       "       review_answer_timestamp  \n",
       "count                    99224  \n",
       "unique                   98248  \n",
       "top        2017-06-15 23:21:05  \n",
       "freq                         4  "
      ]
     },
     "execution_count": 22,
     "metadata": {},
     "output_type": "execute_result"
    }
   ],
   "source": [
    "reviews.describe(include='object')"
   ]
  },
  {
   "cell_type": "markdown",
   "id": "c981ac39",
   "metadata": {},
   "source": [
    "there are some duplicate order_id and review_id, let's drop duplicates before analyzing."
   ]
  },
  {
   "cell_type": "code",
   "execution_count": 23,
   "id": "967b4f29",
   "metadata": {},
   "outputs": [
    {
     "data": {
      "text/html": [
       "<div>\n",
       "<style scoped>\n",
       "    .dataframe tbody tr th:only-of-type {\n",
       "        vertical-align: middle;\n",
       "    }\n",
       "\n",
       "    .dataframe tbody tr th {\n",
       "        vertical-align: top;\n",
       "    }\n",
       "\n",
       "    .dataframe thead th {\n",
       "        text-align: right;\n",
       "    }\n",
       "</style>\n",
       "<table border=\"1\" class=\"dataframe\">\n",
       "  <thead>\n",
       "    <tr style=\"text-align: right;\">\n",
       "      <th></th>\n",
       "      <th>review_id</th>\n",
       "      <th>order_id</th>\n",
       "      <th>review_comment_title</th>\n",
       "      <th>review_comment_message</th>\n",
       "      <th>review_creation_date</th>\n",
       "      <th>review_answer_timestamp</th>\n",
       "    </tr>\n",
       "  </thead>\n",
       "  <tbody>\n",
       "    <tr>\n",
       "      <th>count</th>\n",
       "      <td>98167</td>\n",
       "      <td>98167</td>\n",
       "      <td>11513</td>\n",
       "      <td>40582</td>\n",
       "      <td>98167</td>\n",
       "      <td>98167</td>\n",
       "    </tr>\n",
       "    <tr>\n",
       "      <th>unique</th>\n",
       "      <td>98167</td>\n",
       "      <td>98167</td>\n",
       "      <td>4525</td>\n",
       "      <td>36084</td>\n",
       "      <td>636</td>\n",
       "      <td>98005</td>\n",
       "    </tr>\n",
       "    <tr>\n",
       "      <th>top</th>\n",
       "      <td>7bc2406110b926393aa56f80a40eba40</td>\n",
       "      <td>73fc7af87114b39712e6da79b0a377eb</td>\n",
       "      <td>Recomendo</td>\n",
       "      <td>Muito bom</td>\n",
       "      <td>2017-12-19 00:00:00</td>\n",
       "      <td>2017-12-09 15:28:29</td>\n",
       "    </tr>\n",
       "    <tr>\n",
       "      <th>freq</th>\n",
       "      <td>1</td>\n",
       "      <td>1</td>\n",
       "      <td>422</td>\n",
       "      <td>229</td>\n",
       "      <td>459</td>\n",
       "      <td>3</td>\n",
       "    </tr>\n",
       "  </tbody>\n",
       "</table>\n",
       "</div>"
      ],
      "text/plain": [
       "                               review_id                          order_id  \\\n",
       "count                              98167                             98167   \n",
       "unique                             98167                             98167   \n",
       "top     7bc2406110b926393aa56f80a40eba40  73fc7af87114b39712e6da79b0a377eb   \n",
       "freq                                   1                                 1   \n",
       "\n",
       "       review_comment_title review_comment_message review_creation_date  \\\n",
       "count                 11513                  40582                98167   \n",
       "unique                 4525                  36084                  636   \n",
       "top               Recomendo              Muito bom  2017-12-19 00:00:00   \n",
       "freq                    422                    229                  459   \n",
       "\n",
       "       review_answer_timestamp  \n",
       "count                    98167  \n",
       "unique                   98005  \n",
       "top        2017-12-09 15:28:29  \n",
       "freq                         3  "
      ]
     },
     "execution_count": 23,
     "metadata": {},
     "output_type": "execute_result"
    }
   ],
   "source": [
    "reviews = reviews.drop_duplicates(subset=['review_id'])\n",
    "reviews = reviews.drop_duplicates(subset=['order_id'])\n",
    "reviews.describe(include='object')"
   ]
  },
  {
   "cell_type": "code",
   "execution_count": 24,
   "id": "5cf955a7",
   "metadata": {},
   "outputs": [
    {
     "data": {
      "text/html": [
       "<div>\n",
       "<style scoped>\n",
       "    .dataframe tbody tr th:only-of-type {\n",
       "        vertical-align: middle;\n",
       "    }\n",
       "\n",
       "    .dataframe tbody tr th {\n",
       "        vertical-align: top;\n",
       "    }\n",
       "\n",
       "    .dataframe thead th {\n",
       "        text-align: right;\n",
       "    }\n",
       "</style>\n",
       "<table border=\"1\" class=\"dataframe\">\n",
       "  <thead>\n",
       "    <tr style=\"text-align: right;\">\n",
       "      <th></th>\n",
       "      <th>review_score</th>\n",
       "    </tr>\n",
       "  </thead>\n",
       "  <tbody>\n",
       "    <tr>\n",
       "      <th>count</th>\n",
       "      <td>98167.000000</td>\n",
       "    </tr>\n",
       "    <tr>\n",
       "      <th>mean</th>\n",
       "      <td>4.088961</td>\n",
       "    </tr>\n",
       "    <tr>\n",
       "      <th>std</th>\n",
       "      <td>1.345490</td>\n",
       "    </tr>\n",
       "    <tr>\n",
       "      <th>min</th>\n",
       "      <td>1.000000</td>\n",
       "    </tr>\n",
       "    <tr>\n",
       "      <th>25%</th>\n",
       "      <td>4.000000</td>\n",
       "    </tr>\n",
       "    <tr>\n",
       "      <th>50%</th>\n",
       "      <td>5.000000</td>\n",
       "    </tr>\n",
       "    <tr>\n",
       "      <th>75%</th>\n",
       "      <td>5.000000</td>\n",
       "    </tr>\n",
       "    <tr>\n",
       "      <th>max</th>\n",
       "      <td>5.000000</td>\n",
       "    </tr>\n",
       "  </tbody>\n",
       "</table>\n",
       "</div>"
      ],
      "text/plain": [
       "       review_score\n",
       "count  98167.000000\n",
       "mean       4.088961\n",
       "std        1.345490\n",
       "min        1.000000\n",
       "25%        4.000000\n",
       "50%        5.000000\n",
       "75%        5.000000\n",
       "max        5.000000"
      ]
     },
     "execution_count": 24,
     "metadata": {},
     "output_type": "execute_result"
    }
   ],
   "source": [
    "reviews.describe()"
   ]
  },
  {
   "cell_type": "markdown",
   "id": "32761bc0",
   "metadata": {},
   "source": [
    "6. Products"
   ]
  },
  {
   "cell_type": "code",
   "execution_count": 25,
   "id": "42badd11",
   "metadata": {},
   "outputs": [
    {
     "name": "stdout",
     "output_type": "stream",
     "text": [
      "<class 'pandas.core.frame.DataFrame'>\n",
      "RangeIndex: 32951 entries, 0 to 32950\n",
      "Data columns (total 10 columns):\n",
      " #   Column                            Non-Null Count  Dtype  \n",
      "---  ------                            --------------  -----  \n",
      " 0   product_id                        32951 non-null  object \n",
      " 1   product_category_name             32341 non-null  object \n",
      " 2   product_category_name_in_english  32341 non-null  object \n",
      " 3   product_name_lenght               32341 non-null  float64\n",
      " 4   product_description_lenght        32341 non-null  float64\n",
      " 5   product_photos_qty                32341 non-null  float64\n",
      " 6   product_weight_g                  32949 non-null  float64\n",
      " 7   product_length_cm                 32949 non-null  float64\n",
      " 8   product_height_cm                 32949 non-null  float64\n",
      " 9   product_width_cm                  32949 non-null  float64\n",
      "dtypes: float64(7), object(3)\n",
      "memory usage: 2.5+ MB\n"
     ]
    }
   ],
   "source": [
    "products.info()"
   ]
  },
  {
   "cell_type": "markdown",
   "id": "52f9e006",
   "metadata": {},
   "source": [
    "There are missing values describing the products."
   ]
  },
  {
   "cell_type": "code",
   "execution_count": 26,
   "id": "35b10393",
   "metadata": {
    "scrolled": true
   },
   "outputs": [
    {
     "data": {
      "text/html": [
       "<div>\n",
       "<style scoped>\n",
       "    .dataframe tbody tr th:only-of-type {\n",
       "        vertical-align: middle;\n",
       "    }\n",
       "\n",
       "    .dataframe tbody tr th {\n",
       "        vertical-align: top;\n",
       "    }\n",
       "\n",
       "    .dataframe thead th {\n",
       "        text-align: right;\n",
       "    }\n",
       "</style>\n",
       "<table border=\"1\" class=\"dataframe\">\n",
       "  <thead>\n",
       "    <tr style=\"text-align: right;\">\n",
       "      <th></th>\n",
       "      <th>product_name_lenght</th>\n",
       "      <th>product_description_lenght</th>\n",
       "      <th>product_photos_qty</th>\n",
       "      <th>product_weight_g</th>\n",
       "      <th>product_length_cm</th>\n",
       "      <th>product_height_cm</th>\n",
       "      <th>product_width_cm</th>\n",
       "    </tr>\n",
       "  </thead>\n",
       "  <tbody>\n",
       "    <tr>\n",
       "      <th>count</th>\n",
       "      <td>32341.000000</td>\n",
       "      <td>32341.000000</td>\n",
       "      <td>32341.000000</td>\n",
       "      <td>32949.000000</td>\n",
       "      <td>32949.000000</td>\n",
       "      <td>32949.000000</td>\n",
       "      <td>32949.000000</td>\n",
       "    </tr>\n",
       "    <tr>\n",
       "      <th>mean</th>\n",
       "      <td>48.476949</td>\n",
       "      <td>771.495285</td>\n",
       "      <td>2.188986</td>\n",
       "      <td>2276.472488</td>\n",
       "      <td>30.815078</td>\n",
       "      <td>16.937661</td>\n",
       "      <td>23.196728</td>\n",
       "    </tr>\n",
       "    <tr>\n",
       "      <th>std</th>\n",
       "      <td>10.245741</td>\n",
       "      <td>635.115225</td>\n",
       "      <td>1.736766</td>\n",
       "      <td>4282.038731</td>\n",
       "      <td>16.914458</td>\n",
       "      <td>13.637554</td>\n",
       "      <td>12.079047</td>\n",
       "    </tr>\n",
       "    <tr>\n",
       "      <th>min</th>\n",
       "      <td>5.000000</td>\n",
       "      <td>4.000000</td>\n",
       "      <td>1.000000</td>\n",
       "      <td>0.000000</td>\n",
       "      <td>7.000000</td>\n",
       "      <td>2.000000</td>\n",
       "      <td>6.000000</td>\n",
       "    </tr>\n",
       "    <tr>\n",
       "      <th>25%</th>\n",
       "      <td>42.000000</td>\n",
       "      <td>339.000000</td>\n",
       "      <td>1.000000</td>\n",
       "      <td>300.000000</td>\n",
       "      <td>18.000000</td>\n",
       "      <td>8.000000</td>\n",
       "      <td>15.000000</td>\n",
       "    </tr>\n",
       "    <tr>\n",
       "      <th>50%</th>\n",
       "      <td>51.000000</td>\n",
       "      <td>595.000000</td>\n",
       "      <td>1.000000</td>\n",
       "      <td>700.000000</td>\n",
       "      <td>25.000000</td>\n",
       "      <td>13.000000</td>\n",
       "      <td>20.000000</td>\n",
       "    </tr>\n",
       "    <tr>\n",
       "      <th>75%</th>\n",
       "      <td>57.000000</td>\n",
       "      <td>972.000000</td>\n",
       "      <td>3.000000</td>\n",
       "      <td>1900.000000</td>\n",
       "      <td>38.000000</td>\n",
       "      <td>21.000000</td>\n",
       "      <td>30.000000</td>\n",
       "    </tr>\n",
       "    <tr>\n",
       "      <th>max</th>\n",
       "      <td>76.000000</td>\n",
       "      <td>3992.000000</td>\n",
       "      <td>20.000000</td>\n",
       "      <td>40425.000000</td>\n",
       "      <td>105.000000</td>\n",
       "      <td>105.000000</td>\n",
       "      <td>118.000000</td>\n",
       "    </tr>\n",
       "  </tbody>\n",
       "</table>\n",
       "</div>"
      ],
      "text/plain": [
       "       product_name_lenght  product_description_lenght  product_photos_qty  \\\n",
       "count         32341.000000                32341.000000        32341.000000   \n",
       "mean             48.476949                  771.495285            2.188986   \n",
       "std              10.245741                  635.115225            1.736766   \n",
       "min               5.000000                    4.000000            1.000000   \n",
       "25%              42.000000                  339.000000            1.000000   \n",
       "50%              51.000000                  595.000000            1.000000   \n",
       "75%              57.000000                  972.000000            3.000000   \n",
       "max              76.000000                 3992.000000           20.000000   \n",
       "\n",
       "       product_weight_g  product_length_cm  product_height_cm  \\\n",
       "count      32949.000000       32949.000000       32949.000000   \n",
       "mean        2276.472488          30.815078          16.937661   \n",
       "std         4282.038731          16.914458          13.637554   \n",
       "min            0.000000           7.000000           2.000000   \n",
       "25%          300.000000          18.000000           8.000000   \n",
       "50%          700.000000          25.000000          13.000000   \n",
       "75%         1900.000000          38.000000          21.000000   \n",
       "max        40425.000000         105.000000         105.000000   \n",
       "\n",
       "       product_width_cm  \n",
       "count      32949.000000  \n",
       "mean          23.196728  \n",
       "std           12.079047  \n",
       "min            6.000000  \n",
       "25%           15.000000  \n",
       "50%           20.000000  \n",
       "75%           30.000000  \n",
       "max          118.000000  "
      ]
     },
     "execution_count": 26,
     "metadata": {},
     "output_type": "execute_result"
    }
   ],
   "source": [
    "products.describe()"
   ]
  },
  {
   "cell_type": "code",
   "execution_count": 27,
   "id": "74dc6dde",
   "metadata": {
    "scrolled": true
   },
   "outputs": [
    {
     "data": {
      "text/html": [
       "<div>\n",
       "<style scoped>\n",
       "    .dataframe tbody tr th:only-of-type {\n",
       "        vertical-align: middle;\n",
       "    }\n",
       "\n",
       "    .dataframe tbody tr th {\n",
       "        vertical-align: top;\n",
       "    }\n",
       "\n",
       "    .dataframe thead th {\n",
       "        text-align: right;\n",
       "    }\n",
       "</style>\n",
       "<table border=\"1\" class=\"dataframe\">\n",
       "  <thead>\n",
       "    <tr style=\"text-align: right;\">\n",
       "      <th></th>\n",
       "      <th>product_id</th>\n",
       "      <th>product_category_name</th>\n",
       "      <th>product_category_name_in_english</th>\n",
       "    </tr>\n",
       "  </thead>\n",
       "  <tbody>\n",
       "    <tr>\n",
       "      <th>count</th>\n",
       "      <td>32951</td>\n",
       "      <td>32341</td>\n",
       "      <td>32341</td>\n",
       "    </tr>\n",
       "    <tr>\n",
       "      <th>unique</th>\n",
       "      <td>32951</td>\n",
       "      <td>73</td>\n",
       "      <td>73</td>\n",
       "    </tr>\n",
       "    <tr>\n",
       "      <th>top</th>\n",
       "      <td>1e9e8ef04dbcff4541ed26657ea517e5</td>\n",
       "      <td>cama_mesa_banho</td>\n",
       "      <td>bed_bath_table</td>\n",
       "    </tr>\n",
       "    <tr>\n",
       "      <th>freq</th>\n",
       "      <td>1</td>\n",
       "      <td>3029</td>\n",
       "      <td>3029</td>\n",
       "    </tr>\n",
       "  </tbody>\n",
       "</table>\n",
       "</div>"
      ],
      "text/plain": [
       "                              product_id product_category_name  \\\n",
       "count                              32951                 32341   \n",
       "unique                             32951                    73   \n",
       "top     1e9e8ef04dbcff4541ed26657ea517e5       cama_mesa_banho   \n",
       "freq                                   1                  3029   \n",
       "\n",
       "       product_category_name_in_english  \n",
       "count                             32341  \n",
       "unique                               73  \n",
       "top                      bed_bath_table  \n",
       "freq                               3029  "
      ]
     },
     "execution_count": 27,
     "metadata": {},
     "output_type": "execute_result"
    }
   ],
   "source": [
    "products.describe(include='object')"
   ]
  },
  {
   "cell_type": "markdown",
   "id": "be48598f",
   "metadata": {},
   "source": [
    "7. Sellers"
   ]
  },
  {
   "cell_type": "code",
   "execution_count": 28,
   "id": "18e74a3e",
   "metadata": {
    "scrolled": true
   },
   "outputs": [
    {
     "name": "stdout",
     "output_type": "stream",
     "text": [
      "<class 'pandas.core.frame.DataFrame'>\n",
      "RangeIndex: 3095 entries, 0 to 3094\n",
      "Data columns (total 4 columns):\n",
      " #   Column                  Non-Null Count  Dtype \n",
      "---  ------                  --------------  ----- \n",
      " 0   seller_id               3095 non-null   object\n",
      " 1   seller_zip_code_prefix  3095 non-null   int64 \n",
      " 2   seller_city             3095 non-null   object\n",
      " 3   seller_state            3095 non-null   object\n",
      "dtypes: int64(1), object(3)\n",
      "memory usage: 96.8+ KB\n"
     ]
    }
   ],
   "source": [
    "sellers.info()"
   ]
  },
  {
   "cell_type": "code",
   "execution_count": 29,
   "id": "1c1e4a85",
   "metadata": {
    "scrolled": true
   },
   "outputs": [
    {
     "data": {
      "text/html": [
       "<div>\n",
       "<style scoped>\n",
       "    .dataframe tbody tr th:only-of-type {\n",
       "        vertical-align: middle;\n",
       "    }\n",
       "\n",
       "    .dataframe tbody tr th {\n",
       "        vertical-align: top;\n",
       "    }\n",
       "\n",
       "    .dataframe thead th {\n",
       "        text-align: right;\n",
       "    }\n",
       "</style>\n",
       "<table border=\"1\" class=\"dataframe\">\n",
       "  <thead>\n",
       "    <tr style=\"text-align: right;\">\n",
       "      <th></th>\n",
       "      <th>seller_id</th>\n",
       "      <th>seller_city</th>\n",
       "      <th>seller_state</th>\n",
       "    </tr>\n",
       "  </thead>\n",
       "  <tbody>\n",
       "    <tr>\n",
       "      <th>count</th>\n",
       "      <td>3095</td>\n",
       "      <td>3095</td>\n",
       "      <td>3095</td>\n",
       "    </tr>\n",
       "    <tr>\n",
       "      <th>unique</th>\n",
       "      <td>3095</td>\n",
       "      <td>611</td>\n",
       "      <td>23</td>\n",
       "    </tr>\n",
       "    <tr>\n",
       "      <th>top</th>\n",
       "      <td>3442f8959a84dea7ee197c632cb2df15</td>\n",
       "      <td>sao paulo</td>\n",
       "      <td>SP</td>\n",
       "    </tr>\n",
       "    <tr>\n",
       "      <th>freq</th>\n",
       "      <td>1</td>\n",
       "      <td>694</td>\n",
       "      <td>1849</td>\n",
       "    </tr>\n",
       "  </tbody>\n",
       "</table>\n",
       "</div>"
      ],
      "text/plain": [
       "                               seller_id seller_city seller_state\n",
       "count                               3095        3095         3095\n",
       "unique                              3095         611           23\n",
       "top     3442f8959a84dea7ee197c632cb2df15   sao paulo           SP\n",
       "freq                                   1         694         1849"
      ]
     },
     "execution_count": 29,
     "metadata": {},
     "output_type": "execute_result"
    }
   ],
   "source": [
    "sellers.describe(include='object')"
   ]
  },
  {
   "cell_type": "code",
   "execution_count": 30,
   "id": "62f5e201",
   "metadata": {},
   "outputs": [
    {
     "data": {
      "text/plain": [
       "seller_state\n",
       "SP    59.741519\n",
       "PR    11.276252\n",
       "MG     7.883683\n",
       "SC     6.138934\n",
       "RJ     5.525040\n",
       "RS     4.168013\n",
       "GO     1.292407\n",
       "DF     0.969305\n",
       "ES     0.743134\n",
       "BA     0.613893\n",
       "CE     0.420032\n",
       "PE     0.290792\n",
       "PB     0.193861\n",
       "MS     0.161551\n",
       "RN     0.161551\n",
       "MT     0.129241\n",
       "RO     0.064620\n",
       "SE     0.064620\n",
       "AC     0.032310\n",
       "PI     0.032310\n",
       "AM     0.032310\n",
       "MA     0.032310\n",
       "PA     0.032310\n",
       "Name: seller_state, dtype: float64"
      ]
     },
     "execution_count": 30,
     "metadata": {},
     "output_type": "execute_result"
    }
   ],
   "source": [
    "sellers.groupby('seller_state')['seller_state'].count().sort_values(ascending=False) * 100 / 3095 "
   ]
  },
  {
   "cell_type": "markdown",
   "id": "b782555f",
   "metadata": {},
   "source": [
    "There are 3095 sellers come from 23 states of Brazil. Nearly 60% seller come from SP or Sao Paulo."
   ]
  },
  {
   "cell_type": "markdown",
   "id": "4d5b202e",
   "metadata": {},
   "source": [
    "8. Geolocation"
   ]
  },
  {
   "cell_type": "code",
   "execution_count": 31,
   "id": "221dd1ed",
   "metadata": {},
   "outputs": [
    {
     "name": "stdout",
     "output_type": "stream",
     "text": [
      "<class 'pandas.core.frame.DataFrame'>\n",
      "RangeIndex: 1000163 entries, 0 to 1000162\n",
      "Data columns (total 5 columns):\n",
      " #   Column                       Non-Null Count    Dtype  \n",
      "---  ------                       --------------    -----  \n",
      " 0   geolocation_zip_code_prefix  1000163 non-null  int64  \n",
      " 1   geolocation_lat              1000163 non-null  float64\n",
      " 2   geolocation_lng              1000163 non-null  float64\n",
      " 3   geolocation_city             1000163 non-null  object \n",
      " 4   geolocation_state            1000163 non-null  object \n",
      "dtypes: float64(2), int64(1), object(2)\n",
      "memory usage: 38.2+ MB\n"
     ]
    }
   ],
   "source": [
    "geolocation.info()"
   ]
  },
  {
   "cell_type": "code",
   "execution_count": 32,
   "id": "742b924d",
   "metadata": {},
   "outputs": [
    {
     "data": {
      "text/html": [
       "<div>\n",
       "<style scoped>\n",
       "    .dataframe tbody tr th:only-of-type {\n",
       "        vertical-align: middle;\n",
       "    }\n",
       "\n",
       "    .dataframe tbody tr th {\n",
       "        vertical-align: top;\n",
       "    }\n",
       "\n",
       "    .dataframe thead th {\n",
       "        text-align: right;\n",
       "    }\n",
       "</style>\n",
       "<table border=\"1\" class=\"dataframe\">\n",
       "  <thead>\n",
       "    <tr style=\"text-align: right;\">\n",
       "      <th></th>\n",
       "      <th>geolocation_zip_code_prefix</th>\n",
       "      <th>geolocation_lat</th>\n",
       "      <th>geolocation_lng</th>\n",
       "    </tr>\n",
       "  </thead>\n",
       "  <tbody>\n",
       "    <tr>\n",
       "      <th>count</th>\n",
       "      <td>1.000163e+06</td>\n",
       "      <td>1.000163e+06</td>\n",
       "      <td>1.000163e+06</td>\n",
       "    </tr>\n",
       "    <tr>\n",
       "      <th>mean</th>\n",
       "      <td>3.657417e+04</td>\n",
       "      <td>-2.117615e+01</td>\n",
       "      <td>-4.639054e+01</td>\n",
       "    </tr>\n",
       "    <tr>\n",
       "      <th>std</th>\n",
       "      <td>3.054934e+04</td>\n",
       "      <td>5.715866e+00</td>\n",
       "      <td>4.269748e+00</td>\n",
       "    </tr>\n",
       "    <tr>\n",
       "      <th>min</th>\n",
       "      <td>1.001000e+03</td>\n",
       "      <td>-3.660537e+01</td>\n",
       "      <td>-1.014668e+02</td>\n",
       "    </tr>\n",
       "    <tr>\n",
       "      <th>25%</th>\n",
       "      <td>1.107500e+04</td>\n",
       "      <td>-2.360355e+01</td>\n",
       "      <td>-4.857317e+01</td>\n",
       "    </tr>\n",
       "    <tr>\n",
       "      <th>50%</th>\n",
       "      <td>2.653000e+04</td>\n",
       "      <td>-2.291938e+01</td>\n",
       "      <td>-4.663788e+01</td>\n",
       "    </tr>\n",
       "    <tr>\n",
       "      <th>75%</th>\n",
       "      <td>6.350400e+04</td>\n",
       "      <td>-1.997962e+01</td>\n",
       "      <td>-4.376771e+01</td>\n",
       "    </tr>\n",
       "    <tr>\n",
       "      <th>max</th>\n",
       "      <td>9.999000e+04</td>\n",
       "      <td>4.506593e+01</td>\n",
       "      <td>1.211054e+02</td>\n",
       "    </tr>\n",
       "  </tbody>\n",
       "</table>\n",
       "</div>"
      ],
      "text/plain": [
       "       geolocation_zip_code_prefix  geolocation_lat  geolocation_lng\n",
       "count                 1.000163e+06     1.000163e+06     1.000163e+06\n",
       "mean                  3.657417e+04    -2.117615e+01    -4.639054e+01\n",
       "std                   3.054934e+04     5.715866e+00     4.269748e+00\n",
       "min                   1.001000e+03    -3.660537e+01    -1.014668e+02\n",
       "25%                   1.107500e+04    -2.360355e+01    -4.857317e+01\n",
       "50%                   2.653000e+04    -2.291938e+01    -4.663788e+01\n",
       "75%                   6.350400e+04    -1.997962e+01    -4.376771e+01\n",
       "max                   9.999000e+04     4.506593e+01     1.211054e+02"
      ]
     },
     "execution_count": 32,
     "metadata": {},
     "output_type": "execute_result"
    }
   ],
   "source": [
    "geolocation.describe()"
   ]
  },
  {
   "cell_type": "code",
   "execution_count": 33,
   "id": "94fcf6f9",
   "metadata": {},
   "outputs": [
    {
     "data": {
      "text/html": [
       "<div>\n",
       "<style scoped>\n",
       "    .dataframe tbody tr th:only-of-type {\n",
       "        vertical-align: middle;\n",
       "    }\n",
       "\n",
       "    .dataframe tbody tr th {\n",
       "        vertical-align: top;\n",
       "    }\n",
       "\n",
       "    .dataframe thead th {\n",
       "        text-align: right;\n",
       "    }\n",
       "</style>\n",
       "<table border=\"1\" class=\"dataframe\">\n",
       "  <thead>\n",
       "    <tr style=\"text-align: right;\">\n",
       "      <th></th>\n",
       "      <th>geolocation_city</th>\n",
       "      <th>geolocation_state</th>\n",
       "    </tr>\n",
       "  </thead>\n",
       "  <tbody>\n",
       "    <tr>\n",
       "      <th>count</th>\n",
       "      <td>1000163</td>\n",
       "      <td>1000163</td>\n",
       "    </tr>\n",
       "    <tr>\n",
       "      <th>unique</th>\n",
       "      <td>8011</td>\n",
       "      <td>27</td>\n",
       "    </tr>\n",
       "    <tr>\n",
       "      <th>top</th>\n",
       "      <td>sao paulo</td>\n",
       "      <td>SP</td>\n",
       "    </tr>\n",
       "    <tr>\n",
       "      <th>freq</th>\n",
       "      <td>135800</td>\n",
       "      <td>404268</td>\n",
       "    </tr>\n",
       "  </tbody>\n",
       "</table>\n",
       "</div>"
      ],
      "text/plain": [
       "       geolocation_city geolocation_state\n",
       "count           1000163           1000163\n",
       "unique             8011                27\n",
       "top           sao paulo                SP\n",
       "freq             135800            404268"
      ]
     },
     "execution_count": 33,
     "metadata": {},
     "output_type": "execute_result"
    }
   ],
   "source": [
    "geolocation.describe(include='object')"
   ]
  },
  {
   "cell_type": "code",
   "execution_count": 34,
   "id": "a3ae41d6",
   "metadata": {},
   "outputs": [
    {
     "data": {
      "text/html": [
       "<div>\n",
       "<style scoped>\n",
       "    .dataframe tbody tr th:only-of-type {\n",
       "        vertical-align: middle;\n",
       "    }\n",
       "\n",
       "    .dataframe tbody tr th {\n",
       "        vertical-align: top;\n",
       "    }\n",
       "\n",
       "    .dataframe thead th {\n",
       "        text-align: right;\n",
       "    }\n",
       "</style>\n",
       "<table border=\"1\" class=\"dataframe\">\n",
       "  <thead>\n",
       "    <tr style=\"text-align: right;\">\n",
       "      <th></th>\n",
       "      <th>geolocation_zip_code_prefix</th>\n",
       "      <th>geolocation_lat</th>\n",
       "      <th>geolocation_lng</th>\n",
       "      <th>geolocation_city</th>\n",
       "      <th>geolocation_state</th>\n",
       "    </tr>\n",
       "  </thead>\n",
       "  <tbody>\n",
       "    <tr>\n",
       "      <th>0</th>\n",
       "      <td>1037</td>\n",
       "      <td>-23.545621</td>\n",
       "      <td>-46.639292</td>\n",
       "      <td>sao paulo</td>\n",
       "      <td>SP</td>\n",
       "    </tr>\n",
       "    <tr>\n",
       "      <th>1</th>\n",
       "      <td>1046</td>\n",
       "      <td>-23.546081</td>\n",
       "      <td>-46.644820</td>\n",
       "      <td>sao paulo</td>\n",
       "      <td>SP</td>\n",
       "    </tr>\n",
       "    <tr>\n",
       "      <th>2</th>\n",
       "      <td>1046</td>\n",
       "      <td>-23.546129</td>\n",
       "      <td>-46.642951</td>\n",
       "      <td>sao paulo</td>\n",
       "      <td>SP</td>\n",
       "    </tr>\n",
       "    <tr>\n",
       "      <th>3</th>\n",
       "      <td>1041</td>\n",
       "      <td>-23.544392</td>\n",
       "      <td>-46.639499</td>\n",
       "      <td>sao paulo</td>\n",
       "      <td>SP</td>\n",
       "    </tr>\n",
       "    <tr>\n",
       "      <th>4</th>\n",
       "      <td>1035</td>\n",
       "      <td>-23.541578</td>\n",
       "      <td>-46.641607</td>\n",
       "      <td>sao paulo</td>\n",
       "      <td>SP</td>\n",
       "    </tr>\n",
       "  </tbody>\n",
       "</table>\n",
       "</div>"
      ],
      "text/plain": [
       "   geolocation_zip_code_prefix  geolocation_lat  geolocation_lng  \\\n",
       "0                         1037       -23.545621       -46.639292   \n",
       "1                         1046       -23.546081       -46.644820   \n",
       "2                         1046       -23.546129       -46.642951   \n",
       "3                         1041       -23.544392       -46.639499   \n",
       "4                         1035       -23.541578       -46.641607   \n",
       "\n",
       "  geolocation_city geolocation_state  \n",
       "0        sao paulo                SP  \n",
       "1        sao paulo                SP  \n",
       "2        sao paulo                SP  \n",
       "3        sao paulo                SP  \n",
       "4        sao paulo                SP  "
      ]
     },
     "execution_count": 34,
     "metadata": {},
     "output_type": "execute_result"
    }
   ],
   "source": [
    "geolocation.head()"
   ]
  },
  {
   "cell_type": "code",
   "execution_count": 35,
   "id": "78c6668a",
   "metadata": {},
   "outputs": [
    {
     "name": "stderr",
     "output_type": "stream",
     "text": [
      "C:\\Users\\PC\\AppData\\Local\\Temp\\ipykernel_8488\\125539402.py:2: FutureWarning: Indexing with multiple keys (implicitly converted to a tuple of keys) will be deprecated, use a list instead.\n",
      "  geolocation_avg = pd.DataFrame(geolocation.groupby(['geolocation_zip_code_prefix','geolocation_city', 'geolocation_state'])[('geolocation_lat', 'geolocation_lng')].mean())\n"
     ]
    }
   ],
   "source": [
    "#One zip_code_prefix with multiple latitude and longtitude, I will get the avarage value for unique values of prefix as primary key of this table.\n",
    "geolocation_avg = pd.DataFrame(geolocation.groupby(['geolocation_zip_code_prefix','geolocation_city', 'geolocation_state'])[('geolocation_lat', 'geolocation_lng')].mean())\n",
    "geolocation_avg = geolocation_avg.reset_index()"
   ]
  },
  {
   "cell_type": "markdown",
   "id": "8decc205",
   "metadata": {},
   "source": [
    "III. Explore data:\n"
   ]
  },
  {
   "cell_type": "markdown",
   "id": "72d5845b",
   "metadata": {},
   "source": [
    "1. Process time"
   ]
  },
  {
   "cell_type": "markdown",
   "id": "2c6fc34d",
   "metadata": {},
   "source": [
    "Use Bigquery create order_customer_geo table with metric of process_time by joining multiple tables.\n",
    "\n",
    "\n",
    "\"\n",
    "WITH orders AS (\n",
    "  SELECT *, \n",
    "    CASE WHEN day_difference < 0 THEN 1\n",
    "    ELSE 0 END AS is_late,\n",
    "    CASE WHEN day_difference < 0 THEN day_difference*(-1)\n",
    "    ELSE NULL END AS late_time\n",
    "  FROM(\n",
    "    SELECT *,\n",
    "         date_diff(order_delivered_customer_date, order_purchase_timestamp, day) AS process_time,\n",
    "         date_diff(order_estimated_delivery_date, order_delivered_customer_date, day) AS day_difference,\n",
    "         date_diff(order_approved_at, order_purchase_timestamp, day) AS approve_time,\n",
    "         date_diff(order_delivered_carrier_date, order_purchase_timestamp, day) AS seller_process_time,\n",
    "         date_diff(order_delivered_customer_date, order_delivered_carrier_date, day) AS logistics_time,\n",
    "        \n",
    "         format_date(\"%Y%m\", order_purchase_timestamp) AS month --base on the time of purchase--\n",
    "\n",
    "    FROM `hien-348414.Ecommerce220822.olist_orders_dataset`\n",
    "    WHERE order_delivered_customer_date IS NOT NULL AND order_approved_at IS NOT NULL AND order_delivered_carrier_date IS NOT NULL) AS a),\n",
    "AND (order_status = 'delivered' OR order_status = 'canceled') --only check orders that completed, consist of 'delivered' and 'canceled' as customer cancel orders after they are done.\n",
    "\n",
    "geolocation AS(\n",
    "SELECT geolocation_zip_code_prefix, avg(geolocation_lat) AS geolocation_lat, avg(geolocation_lng) AS geolocation_lng\n",
    "FROM `hien-348414.Ecommerce220822.olist_geolocation_dataset`\n",
    "GROUP BY geolocation_zip_code_prefix),\n",
    "\n",
    "order_customer_geo AS(\n",
    "  SELECT  o.*, \n",
    "\n",
    "          c.customer_state AS cus_state, \n",
    "          c.customer_city AS customer_city,  \n",
    "\n",
    "          \n",
    "          g.geolocation_lat AS cus_lat, \n",
    "          g.geolocation_lng AS cus_lng, \n",
    "       \n",
    "\n",
    "  FROM orders AS o\n",
    "  JOIN `hien-348414.Ecommerce220822.olist_customers_dataset` AS c\n",
    "  ON o.customer_id = c.customer_id \n",
    "  JOIN geolocation AS g\n",
    "  ON c.customer_zip_code_prefix = g.geolocation_zip_code_prefix\n",
    "WHERE order_purchase_timestamp BETWEEN '2017-01-01 00:00:00 UTC' AND '2018-08-31 23:59:59 UTC'\n",
    "AND process_time >= 0 AND approve_time >= 0 AND seller_process_time >= 0 AND logistics_time >= 0  \n",
    ")\n",
    "SELECT *\n",
    "FROM order_customer_geo\n",
    "\n",
    "\"\n",
    "\n"
   ]
  },
  {
   "cell_type": "code",
   "execution_count": 36,
   "id": "4edb4a7c",
   "metadata": {},
   "outputs": [
    {
     "name": "stdout",
     "output_type": "stream",
     "text": [
      "<class 'pandas.core.frame.DataFrame'>\n",
      "RangeIndex: 95925 entries, 0 to 95924\n",
      "Data columns (total 21 columns):\n",
      " #   Column                         Non-Null Count  Dtype  \n",
      "---  ------                         --------------  -----  \n",
      " 0   order_id                       95925 non-null  object \n",
      " 1   customer_id                    95925 non-null  object \n",
      " 2   order_status                   95925 non-null  object \n",
      " 3   order_purchase_timestamp       95925 non-null  object \n",
      " 4   order_approved_at              95925 non-null  object \n",
      " 5   order_delivered_carrier_date   95925 non-null  object \n",
      " 6   order_delivered_customer_date  95925 non-null  object \n",
      " 7   order_estimated_delivery_date  95925 non-null  object \n",
      " 8   process_time                   95925 non-null  int64  \n",
      " 9   day_difference                 95925 non-null  int64  \n",
      " 10  approve_time                   95925 non-null  int64  \n",
      " 11  seller_process_time            95925 non-null  int64  \n",
      " 12  logistics_time                 95925 non-null  int64  \n",
      " 13  month                          95925 non-null  int64  \n",
      " 14  is_late                        95925 non-null  int64  \n",
      " 15  late_time                      6507 non-null   float64\n",
      " 16  cus_state                      95925 non-null  object \n",
      " 17  state_name                     95925 non-null  object \n",
      " 18  customer_city                  95925 non-null  object \n",
      " 19  cus_lat                        95925 non-null  float64\n",
      " 20  cus_lng                        95925 non-null  float64\n",
      "dtypes: float64(3), int64(7), object(11)\n",
      "memory usage: 15.4+ MB\n"
     ]
    }
   ],
   "source": [
    "#Load the output:\n",
    "\n",
    "order_customer_geo = pd.read_csv(r\"C:\\Users\\PC\\Downloads\\bq-results-20220912-130504-1662987989345.csv\", encoding='latin-1')\n",
    "order_customer_geo.info()"
   ]
  },
  {
   "cell_type": "markdown",
   "id": "a059700b",
   "metadata": {},
   "source": [
    "Questions: How long does it take to process the orders? "
   ]
  },
  {
   "cell_type": "code",
   "execution_count": 37,
   "id": "953ca325",
   "metadata": {},
   "outputs": [
    {
     "data": {
      "text/plain": [
       "mean       12.064488\n",
       "min         0.000000\n",
       "max       209.000000\n",
       "median     10.000000\n",
       "Name: process_time, dtype: float64"
      ]
     },
     "execution_count": 37,
     "metadata": {},
     "output_type": "execute_result"
    }
   ],
   "source": [
    "order_customer_geo['process_time'].agg(['mean', 'min', 'max', 'median'])"
   ]
  },
  {
   "cell_type": "code",
   "execution_count": 38,
   "id": "b81f2647",
   "metadata": {},
   "outputs": [
    {
     "data": {
      "text/html": [
       "<div>\n",
       "<style scoped>\n",
       "    .dataframe tbody tr th:only-of-type {\n",
       "        vertical-align: middle;\n",
       "    }\n",
       "\n",
       "    .dataframe tbody tr th {\n",
       "        vertical-align: top;\n",
       "    }\n",
       "\n",
       "    .dataframe thead th {\n",
       "        text-align: right;\n",
       "    }\n",
       "</style>\n",
       "<table border=\"1\" class=\"dataframe\">\n",
       "  <thead>\n",
       "    <tr style=\"text-align: right;\">\n",
       "      <th></th>\n",
       "      <th>mean</th>\n",
       "      <th>min</th>\n",
       "      <th>max</th>\n",
       "      <th>median</th>\n",
       "    </tr>\n",
       "    <tr>\n",
       "      <th>month</th>\n",
       "      <th></th>\n",
       "      <th></th>\n",
       "      <th></th>\n",
       "      <th></th>\n",
       "    </tr>\n",
       "  </thead>\n",
       "  <tbody>\n",
       "    <tr>\n",
       "      <th>201701</th>\n",
       "      <td>12.086898</td>\n",
       "      <td>1</td>\n",
       "      <td>103</td>\n",
       "      <td>10.0</td>\n",
       "    </tr>\n",
       "    <tr>\n",
       "      <th>201702</th>\n",
       "      <td>12.606947</td>\n",
       "      <td>1</td>\n",
       "      <td>209</td>\n",
       "      <td>10.0</td>\n",
       "    </tr>\n",
       "    <tr>\n",
       "      <th>201703</th>\n",
       "      <td>12.366142</td>\n",
       "      <td>1</td>\n",
       "      <td>195</td>\n",
       "      <td>10.0</td>\n",
       "    </tr>\n",
       "    <tr>\n",
       "      <th>201704</th>\n",
       "      <td>14.332172</td>\n",
       "      <td>1</td>\n",
       "      <td>168</td>\n",
       "      <td>12.0</td>\n",
       "    </tr>\n",
       "    <tr>\n",
       "      <th>201705</th>\n",
       "      <td>10.746252</td>\n",
       "      <td>0</td>\n",
       "      <td>182</td>\n",
       "      <td>9.0</td>\n",
       "    </tr>\n",
       "    <tr>\n",
       "      <th>201706</th>\n",
       "      <td>11.495357</td>\n",
       "      <td>0</td>\n",
       "      <td>175</td>\n",
       "      <td>10.0</td>\n",
       "    </tr>\n",
       "    <tr>\n",
       "      <th>201707</th>\n",
       "      <td>11.115912</td>\n",
       "      <td>0</td>\n",
       "      <td>86</td>\n",
       "      <td>10.0</td>\n",
       "    </tr>\n",
       "    <tr>\n",
       "      <th>201708</th>\n",
       "      <td>10.695527</td>\n",
       "      <td>1</td>\n",
       "      <td>115</td>\n",
       "      <td>9.0</td>\n",
       "    </tr>\n",
       "    <tr>\n",
       "      <th>201709</th>\n",
       "      <td>11.382886</td>\n",
       "      <td>1</td>\n",
       "      <td>132</td>\n",
       "      <td>10.0</td>\n",
       "    </tr>\n",
       "    <tr>\n",
       "      <th>201710</th>\n",
       "      <td>11.407391</td>\n",
       "      <td>1</td>\n",
       "      <td>109</td>\n",
       "      <td>10.0</td>\n",
       "    </tr>\n",
       "    <tr>\n",
       "      <th>201711</th>\n",
       "      <td>14.697262</td>\n",
       "      <td>0</td>\n",
       "      <td>173</td>\n",
       "      <td>12.0</td>\n",
       "    </tr>\n",
       "    <tr>\n",
       "      <th>201712</th>\n",
       "      <td>14.932157</td>\n",
       "      <td>1</td>\n",
       "      <td>138</td>\n",
       "      <td>13.0</td>\n",
       "    </tr>\n",
       "    <tr>\n",
       "      <th>201801</th>\n",
       "      <td>13.622821</td>\n",
       "      <td>1</td>\n",
       "      <td>191</td>\n",
       "      <td>11.0</td>\n",
       "    </tr>\n",
       "    <tr>\n",
       "      <th>201802</th>\n",
       "      <td>16.506046</td>\n",
       "      <td>0</td>\n",
       "      <td>208</td>\n",
       "      <td>14.0</td>\n",
       "    </tr>\n",
       "    <tr>\n",
       "      <th>201803</th>\n",
       "      <td>15.853316</td>\n",
       "      <td>1</td>\n",
       "      <td>103</td>\n",
       "      <td>13.0</td>\n",
       "    </tr>\n",
       "    <tr>\n",
       "      <th>201804</th>\n",
       "      <td>11.043087</td>\n",
       "      <td>1</td>\n",
       "      <td>108</td>\n",
       "      <td>9.0</td>\n",
       "    </tr>\n",
       "    <tr>\n",
       "      <th>201805</th>\n",
       "      <td>10.961087</td>\n",
       "      <td>0</td>\n",
       "      <td>143</td>\n",
       "      <td>9.0</td>\n",
       "    </tr>\n",
       "    <tr>\n",
       "      <th>201806</th>\n",
       "      <td>8.757072</td>\n",
       "      <td>0</td>\n",
       "      <td>136</td>\n",
       "      <td>7.0</td>\n",
       "    </tr>\n",
       "    <tr>\n",
       "      <th>201807</th>\n",
       "      <td>8.493077</td>\n",
       "      <td>1</td>\n",
       "      <td>77</td>\n",
       "      <td>7.0</td>\n",
       "    </tr>\n",
       "    <tr>\n",
       "      <th>201808</th>\n",
       "      <td>7.281675</td>\n",
       "      <td>1</td>\n",
       "      <td>50</td>\n",
       "      <td>7.0</td>\n",
       "    </tr>\n",
       "  </tbody>\n",
       "</table>\n",
       "</div>"
      ],
      "text/plain": [
       "             mean  min  max  median\n",
       "month                              \n",
       "201701  12.086898    1  103    10.0\n",
       "201702  12.606947    1  209    10.0\n",
       "201703  12.366142    1  195    10.0\n",
       "201704  14.332172    1  168    12.0\n",
       "201705  10.746252    0  182     9.0\n",
       "201706  11.495357    0  175    10.0\n",
       "201707  11.115912    0   86    10.0\n",
       "201708  10.695527    1  115     9.0\n",
       "201709  11.382886    1  132    10.0\n",
       "201710  11.407391    1  109    10.0\n",
       "201711  14.697262    0  173    12.0\n",
       "201712  14.932157    1  138    13.0\n",
       "201801  13.622821    1  191    11.0\n",
       "201802  16.506046    0  208    14.0\n",
       "201803  15.853316    1  103    13.0\n",
       "201804  11.043087    1  108     9.0\n",
       "201805  10.961087    0  143     9.0\n",
       "201806   8.757072    0  136     7.0\n",
       "201807   8.493077    1   77     7.0\n",
       "201808   7.281675    1   50     7.0"
      ]
     },
     "execution_count": 38,
     "metadata": {},
     "output_type": "execute_result"
    }
   ],
   "source": [
    "#Process time by months:\n",
    "order_customer_geo.groupby('month')['process_time'].agg(['mean', 'min', 'max', 'median'])"
   ]
  },
  {
   "cell_type": "code",
   "execution_count": 39,
   "id": "41e89722",
   "metadata": {
    "scrolled": false
   },
   "outputs": [
    {
     "data": {
      "text/plain": [
       "Text(0.5, 1.0, 'Average processing day of orders by month')"
      ]
     },
     "execution_count": 39,
     "metadata": {},
     "output_type": "execute_result"
    },
    {
     "data": {
      "image/png": "[encoded data removed]",
      "text/plain": [
       "<Figure size 432x288 with 1 Axes>"
      ]
     },
     "metadata": {
      "needs_background": "light"
     },
     "output_type": "display_data"
    }
   ],
   "source": [
    "p1 = order_customer_geo.groupby('month')['process_time'].mean().plot(kind='bar')\n",
    "p1.set_ylabel(\"Processing day\")\n",
    "p1.set_title(\"Average processing day of orders by month\")\n"
   ]
  },
  {
   "cell_type": "markdown",
   "id": "c411b320",
   "metadata": {},
   "source": [
    "It takes 7-12 days to process 1 order in average, process time tends to decrease by month, except for 11/2017 to 3/2018."
   ]
  },
  {
   "cell_type": "code",
   "execution_count": 40,
   "id": "043350df",
   "metadata": {},
   "outputs": [
    {
     "data": {
      "text/plain": [
       "cus_state\n",
       "RR    29.500000\n",
       "AP    26.731343\n",
       "AM    25.986207\n",
       "AL    24.043038\n",
       "PA    23.314894\n",
       "MA    21.014104\n",
       "SE    20.939577\n",
       "CE    20.811514\n",
       "AC    20.637500\n",
       "PB    19.912451\n",
       "PI    18.980932\n",
       "RO    18.912863\n",
       "BA    18.842835\n",
       "RN    18.726496\n",
       "PE    17.957044\n",
       "MT    17.593431\n",
       "TO    17.249084\n",
       "ES    15.280967\n",
       "MS    15.191155\n",
       "GO    15.156620\n",
       "RJ    14.834323\n",
       "RS    14.807179\n",
       "SC    14.466780\n",
       "DF    12.455259\n",
       "MG    11.509993\n",
       "PR    11.486509\n",
       "SP     8.272171\n",
       "Name: process_time, dtype: float64"
      ]
     },
     "execution_count": 40,
     "metadata": {},
     "output_type": "execute_result"
    }
   ],
   "source": [
    "#Process time by customers' states:\n",
    "order_customer_geo.groupby('cus_state')['process_time'].mean().sort_values(ascending=False)"
   ]
  },
  {
   "cell_type": "code",
   "execution_count": 41,
   "id": "2c9fb233",
   "metadata": {},
   "outputs": [
    {
     "ename": "SyntaxError",
     "evalue": "invalid syntax (1862313985.py, line 2)",
     "output_type": "error",
     "traceback": [
      "\u001b[1;36m  Input \u001b[1;32mIn [41]\u001b[1;36m\u001b[0m\n\u001b[1;33m    pip install powerbiclient\u001b[0m\n\u001b[1;37m        ^\u001b[0m\n\u001b[1;31mSyntaxError\u001b[0m\u001b[1;31m:\u001b[0m invalid syntax\n"
     ]
    }
   ],
   "source": [
    "#connect to powerbi to add the map of process_time by states\n",
    "pip install powerbiclient"
   ]
  },
  {
   "cell_type": "code",
   "execution_count": 42,
   "id": "14a13a26",
   "metadata": {},
   "outputs": [],
   "source": [
    "\n",
    "from powerbiclient import Report, models\n",
    "from io import StringIO\n",
    "from ipywidgets import interact\n"
   ]
  },
  {
   "cell_type": "code",
   "execution_count": 43,
   "id": "90a3fc3d",
   "metadata": {},
   "outputs": [],
   "source": [
    "# Authenticate the device to embed\n",
    "from powerbiclient.authentication import DeviceCodeLoginAuthentication\n",
    " "
   ]
  },
  {
   "cell_type": "code",
   "execution_count": 44,
   "id": "ff936067",
   "metadata": {},
   "outputs": [
    {
     "name": "stdout",
     "output_type": "stream",
     "text": [
      "Performing interactive authentication. Please follow the instructions on the terminal.\n",
      " To sign in, use a web browser to open the page https://microsoft.com/devicelogin and enter the code S23JXY425 to authenticate.\n",
      "You have logged in.\n",
      "Interactive authentication successfully completed.\n"
     ]
    }
   ],
   "source": [
    "# Initiate device authentication\n",
    "device_auth = DeviceCodeLoginAuthentication()\n",
    "access_token = device_auth.get_access_token()"
   ]
  },
  {
   "cell_type": "code",
   "execution_count": 45,
   "id": "879b2005",
   "metadata": {
    "scrolled": true
   },
   "outputs": [
    {
     "data": {
      "application/vnd.jupyter.widget-view+json": {
       "model_id": "1b81ff78d25c4d29bb75f10b22acb06e",
       "version_major": 2,
       "version_minor": 0
      },
      "text/plain": [
       "Report()"
      ]
     },
     "metadata": {},
     "output_type": "display_data"
    }
   ],
   "source": [
    "# Generate the map\n",
    "\n",
    "process_time_state = Report(group_id=\"d95c21f5-f6c7-4978-8d87-9c13e67c75e6\", report_id =\"10616ca0-f927-42f4-8121-b91f1d65fd0a\", access_token=access_token)\n",
    "process_time_state\n"
   ]
  },
  {
   "cell_type": "markdown",
   "id": "8b2e2af8",
   "metadata": {},
   "source": [
    "Questions: Is delay/lateness a common issue? Why?"
   ]
  },
  {
   "cell_type": "code",
   "execution_count": 46,
   "id": "33bffa77",
   "metadata": {},
   "outputs": [
    {
     "data": {
      "text/plain": [
       "6.7834245504300235"
      ]
     },
     "execution_count": 46,
     "metadata": {},
     "output_type": "execute_result"
    }
   ],
   "source": [
    "order_customer_geo['is_late'].sum() * 100 / order_customer_geo['order_id'].count()"
   ]
  },
  {
   "cell_type": "markdown",
   "id": "4b2bc194",
   "metadata": {},
   "source": [
    "6.78% delays in total."
   ]
  },
  {
   "cell_type": "code",
   "execution_count": 47,
   "id": "d7e83aba",
   "metadata": {},
   "outputs": [
    {
     "data": {
      "text/plain": [
       "count    27.000000\n",
       "mean      9.180240\n",
       "std       4.794638\n",
       "min       2.758621\n",
       "25%       5.168488\n",
       "50%       9.602021\n",
       "75%      12.135177\n",
       "max      21.518987\n",
       "dtype: float64"
      ]
     },
     "execution_count": 47,
     "metadata": {},
     "output_type": "execute_result"
    }
   ],
   "source": [
    "(order_customer_geo.groupby('cus_state')['is_late'].sum() * 100 / order_customer_geo.groupby('cus_state')['order_id'].count()).describe()"
   ]
  },
  {
   "cell_type": "code",
   "execution_count": 48,
   "id": "0b4beb01",
   "metadata": {
    "scrolled": true
   },
   "outputs": [
    {
     "data": {
      "application/vnd.jupyter.widget-view+json": {
       "model_id": "1b81ff78d25c4d29bb75f10b22acb06e",
       "version_major": 2,
       "version_minor": 0
      },
      "text/plain": [
       "Report()"
      ]
     },
     "metadata": {},
     "output_type": "display_data"
    }
   ],
   "source": [
    "# Late orders vs total orders by month, darker color mean longer late time\n",
    "\n",
    "process_time_state\n"
   ]
  },
  {
   "cell_type": "code",
   "execution_count": 49,
   "id": "6a1217e0",
   "metadata": {},
   "outputs": [
    {
     "data": {
      "text/plain": [
       "mean       10.605809\n",
       "min         1.000000\n",
       "max       188.000000\n",
       "median      7.000000\n",
       "Name: late_time, dtype: float64"
      ]
     },
     "execution_count": 49,
     "metadata": {},
     "output_type": "execute_result"
    }
   ],
   "source": [
    "# How late?\n",
    "order_customer_geo['late_time'].agg(['mean', 'min', 'max', 'median'])"
   ]
  },
  {
   "cell_type": "code",
   "execution_count": 50,
   "id": "c6d92337",
   "metadata": {},
   "outputs": [
    {
     "data": {
      "text/plain": [
       "[<matplotlib.lines.Line2D at 0x242b3baed00>]"
      ]
     },
     "execution_count": 50,
     "metadata": {},
     "output_type": "execute_result"
    },
    {
     "data": {
      "image/png": "[encoded data removed]",
      "text/plain": [
       "<Figure size 432x288 with 1 Axes>"
      ]
     },
     "metadata": {
      "needs_background": "light"
     },
     "output_type": "display_data"
    }
   ],
   "source": [
    "def ecdf(a):\n",
    "    x = np.sort(a)\n",
    "    y = np.arange(1, len(x) + 1) / len(x)\n",
    "    return plt.plot(x, y, marker='.', linestyle='none')\n",
    "#ecdf chart to show distribution of data\n",
    "ecdf(order_customer_geo[order_customer_geo['is_late'] == 1].groupby('late_time')['is_late'].sum())"
   ]
  },
  {
   "cell_type": "code",
   "execution_count": 51,
   "id": "fbc95ab4",
   "metadata": {
    "scrolled": true
   },
   "outputs": [
    {
     "data": {
      "text/plain": [
       "<AxesSubplot:xlabel='late_time'>"
      ]
     },
     "execution_count": 51,
     "metadata": {},
     "output_type": "execute_result"
    },
    {
     "data": {
      "image/png": "[encoded data removed]",
      "text/plain": [
       "<Figure size 2160x720 with 1 Axes>"
      ]
     },
     "metadata": {
      "needs_background": "light"
     },
     "output_type": "display_data"
    }
   ],
   "source": [
    "plt.figure(figsize=(30,10))\n",
    "order_customer_geo[order_customer_geo['is_late'] == 1].groupby('late_time')['is_late'].sum().plot(kind='bar')"
   ]
  },
  {
   "cell_type": "markdown",
   "id": "20b25a65",
   "metadata": {},
   "source": [
    "There is a significant number of 1-day late orders, almost < 1 month."
   ]
  },
  {
   "cell_type": "code",
   "execution_count": 52,
   "id": "2ff99039",
   "metadata": {},
   "outputs": [
    {
     "data": {
      "text/plain": [
       "<AxesSubplot:xlabel='month'>"
      ]
     },
     "execution_count": 52,
     "metadata": {},
     "output_type": "execute_result"
    },
    {
     "data": {
      "image/png": "[encoded data removed]",
      "text/plain": [
       "<Figure size 432x288 with 1 Axes>"
      ]
     },
     "metadata": {
      "needs_background": "light"
     },
     "output_type": "display_data"
    }
   ],
   "source": [
    "#late orders vs total\n",
    "(order_customer_geo.groupby('month')['is_late'].sum() * 100 / order_customer_geo.groupby('month')['order_id'].count()).plot(kind='bar')"
   ]
  },
  {
   "cell_type": "code",
   "execution_count": 53,
   "id": "7a367153",
   "metadata": {
    "scrolled": false
   },
   "outputs": [
    {
     "data": {
      "application/vnd.jupyter.widget-view+json": {
       "model_id": "1b81ff78d25c4d29bb75f10b22acb06e",
       "version_major": 2,
       "version_minor": 0
      },
      "text/plain": [
       "Report()"
      ]
     },
     "metadata": {},
     "output_type": "display_data"
    }
   ],
   "source": [
    "#late orders maps\n",
    "process_time_state"
   ]
  },
  {
   "cell_type": "markdown",
   "id": "f1f71dee",
   "metadata": {},
   "source": [
    "Late time tends to decrease over time, in the months with a large number of orders (from 11/2017 to 03/2018), the number of late orders is also significantly higher, this may be because the logistics side has been overloaded. After that, the ratio seems to have improved."
   ]
  },
  {
   "cell_type": "markdown",
   "id": "deb8feb4",
   "metadata": {},
   "source": [
    "Correlation of seller_time and logistics_partner time with late_time"
   ]
  },
  {
   "cell_type": "markdown",
   "id": "0d2aa8d6",
   "metadata": {},
   "source": [
    "\n",
    "Use Bigquery to create avg seller_time and logistics_partner time between late and not_late orders\n",
    "\"\n",
    "WITH orders AS (\n",
    "  SELECT *, \n",
    "    CASE WHEN day_difference < 0 THEN 1\n",
    "    ELSE 0 END AS is_late,\n",
    "    CASE WHEN day_difference < 0 THEN day_difference*(-1)\n",
    "    ELSE NULL END AS late_time\n",
    "  FROM(\n",
    "    SELECT *,\n",
    "         date_diff(order_delivered_customer_date, order_purchase_timestamp, day) AS process_time,\n",
    "         date_diff(order_estimated_delivery_date, order_delivered_customer_date, day) AS day_difference,\n",
    "         date_diff(order_approved_at, order_purchase_timestamp, day) AS approve_time,\n",
    "         date_diff(order_delivered_carrier_date, order_purchase_timestamp, day) AS seller_process_time,\n",
    "         date_diff(order_delivered_customer_date, order_delivered_carrier_date, day) AS logistics_time,\n",
    "        \n",
    "         format_date(\"%Y%m\", order_purchase_timestamp) AS month --base on the time of purchase--\n",
    "\n",
    "    FROM `hien-348414.Ecommerce220822.olist_orders_dataset`\n",
    "    WHERE order_delivered_customer_date IS NOT NULL AND order_approved_at IS NOT NULL AND order_delivered_carrier_date IS NOT NULL) AS a),\n",
    "\n",
    "\n",
    "geolocation AS(\n",
    "SELECT geolocation_zip_code_prefix, avg(geolocation_lat) AS geolocation_lat, avg(geolocation_lng) AS geolocation_lng\n",
    "FROM `hien-348414.Ecommerce220822.olist_geolocation_dataset`\n",
    "GROUP BY geolocation_zip_code_prefix),\n",
    "\n",
    "order_customer_geo AS(\n",
    "  SELECT  o.*, \n",
    "\n",
    "          c.customer_state AS cus_state, \n",
    "          c.customer_city AS customer_city,  \n",
    "\n",
    "          \n",
    "          g.geolocation_lat AS cus_lat, \n",
    "          g.geolocation_lng AS cus_lng, \n",
    "       \n",
    "\n",
    "  FROM orders AS o\n",
    "  JOIN `hien-348414.Ecommerce220822.olist_customers_dataset` AS c\n",
    "  ON o.customer_id = c.customer_id \n",
    "  JOIN geolocation AS g\n",
    "  ON c.customer_zip_code_prefix = g.geolocation_zip_code_prefix\n",
    "WHERE order_purchase_timestamp BETWEEN '2017-01-01 00:00:00 UTC' AND '2018-08-31 23:59:59 UTC'\n",
    "AND process_time >= 0 AND approve_time >= 0 AND seller_process_time >= 0 AND logistics_time >= 0  \n",
    "),\n",
    "not_late AS(\n",
    "SELECT month, cus_state, customer_city, avg(seller_process_time) AS seller_time, avg(logistics_time) AS logistics_partner_time\n",
    "FROM order_customer_geo\n",
    "WHERE is_late = 0\n",
    "GROUP BY month, cus_state, customer_city),\n",
    "late AS(\n",
    "SELECT month, customer_city, cus_state, avg(seller_process_time) AS seller_time, avg(logistics_time) AS logistics_partner_time, avg(late_time) AS avg_late_time\n",
    "FROM order_customer_geo\n",
    "WHERE is_late = 1\n",
    "GROUP BY month, cus_state, customer_city)\n",
    "\n",
    "SELECT late.month, late.customer_city, late.cus_state, late.avg_late_time, (late.seller_time - not_late.seller_time) AS seller_time_diff,\n",
    "        (late.logistics_partner_time - not_late.logistics_partner_time) AS logistics_partner_time_diff\n",
    "FROM not_late\n",
    "JOIN late\n",
    "ON not_late.month = late.month AND not_late.customer_city = late.customer_city AND not_late.cus_state = late.cus_state\n",
    "\n",
    "\n",
    "\"\n"
   ]
  },
  {
   "cell_type": "code",
   "execution_count": 54,
   "id": "5006e35e",
   "metadata": {},
   "outputs": [
    {
     "data": {
      "text/html": [
       "<div>\n",
       "<style scoped>\n",
       "    .dataframe tbody tr th:only-of-type {\n",
       "        vertical-align: middle;\n",
       "    }\n",
       "\n",
       "    .dataframe tbody tr th {\n",
       "        vertical-align: top;\n",
       "    }\n",
       "\n",
       "    .dataframe thead th {\n",
       "        text-align: right;\n",
       "    }\n",
       "</style>\n",
       "<table border=\"1\" class=\"dataframe\">\n",
       "  <thead>\n",
       "    <tr style=\"text-align: right;\">\n",
       "      <th></th>\n",
       "      <th>month</th>\n",
       "      <th>customer_city</th>\n",
       "      <th>cus_state</th>\n",
       "      <th>avg_late_time</th>\n",
       "      <th>seller_time_diff</th>\n",
       "      <th>logistics_partner_time_diff</th>\n",
       "    </tr>\n",
       "  </thead>\n",
       "  <tbody>\n",
       "    <tr>\n",
       "      <th>0</th>\n",
       "      <td>201704</td>\n",
       "      <td>goiania</td>\n",
       "      <td>GO</td>\n",
       "      <td>2.000000</td>\n",
       "      <td>15.142857</td>\n",
       "      <td>2.571429</td>\n",
       "    </tr>\n",
       "    <tr>\n",
       "      <th>1</th>\n",
       "      <td>201705</td>\n",
       "      <td>sao paulo</td>\n",
       "      <td>SP</td>\n",
       "      <td>6.095238</td>\n",
       "      <td>3.408036</td>\n",
       "      <td>11.604167</td>\n",
       "    </tr>\n",
       "    <tr>\n",
       "      <th>2</th>\n",
       "      <td>201704</td>\n",
       "      <td>sao paulo</td>\n",
       "      <td>SP</td>\n",
       "      <td>6.809524</td>\n",
       "      <td>5.193798</td>\n",
       "      <td>14.315615</td>\n",
       "    </tr>\n",
       "    <tr>\n",
       "      <th>3</th>\n",
       "      <td>201705</td>\n",
       "      <td>santo andre</td>\n",
       "      <td>SP</td>\n",
       "      <td>39.000000</td>\n",
       "      <td>-2.031250</td>\n",
       "      <td>44.250000</td>\n",
       "    </tr>\n",
       "    <tr>\n",
       "      <th>4</th>\n",
       "      <td>201704</td>\n",
       "      <td>porto alegre</td>\n",
       "      <td>RS</td>\n",
       "      <td>10.000000</td>\n",
       "      <td>0.416667</td>\n",
       "      <td>24.194444</td>\n",
       "    </tr>\n",
       "  </tbody>\n",
       "</table>\n",
       "</div>"
      ],
      "text/plain": [
       "    month customer_city cus_state  avg_late_time  seller_time_diff  \\\n",
       "0  201704       goiania        GO       2.000000         15.142857   \n",
       "1  201705     sao paulo        SP       6.095238          3.408036   \n",
       "2  201704     sao paulo        SP       6.809524          5.193798   \n",
       "3  201705   santo andre        SP      39.000000         -2.031250   \n",
       "4  201704  porto alegre        RS      10.000000          0.416667   \n",
       "\n",
       "   logistics_partner_time_diff  \n",
       "0                     2.571429  \n",
       "1                    11.604167  \n",
       "2                    14.315615  \n",
       "3                    44.250000  \n",
       "4                    24.194444  "
      ]
     },
     "execution_count": 54,
     "metadata": {},
     "output_type": "execute_result"
    }
   ],
   "source": [
    "compare = pd.read_csv(r\"C:\\Users\\PC\\Downloads\\bquxjob_2313a364_18336588cc4.csv\")\n",
    "compare.head()"
   ]
  },
  {
   "cell_type": "code",
   "execution_count": 55,
   "id": "ba0a3776",
   "metadata": {},
   "outputs": [
    {
     "data": {
      "text/plain": [
       "<AxesSubplot:xlabel='avg_late_time', ylabel='logistics_partner_time_diff'>"
      ]
     },
     "execution_count": 55,
     "metadata": {},
     "output_type": "execute_result"
    },
    {
     "data": {
      "image/png": "[encoded data removed]",
      "text/plain": [
       "<Figure size 1440x720 with 1 Axes>"
      ]
     },
     "metadata": {
      "needs_background": "light"
     },
     "output_type": "display_data"
    }
   ],
   "source": [
    "#Logistics partner time difference (day diff when they deliver orders in time vs late in average) and late_time\n",
    "plt.figure(figsize=(20,10))\n",
    "sns.scatterplot(x='avg_late_time', y='logistics_partner_time_diff', data=compare)\n"
   ]
  },
  {
   "cell_type": "code",
   "execution_count": 56,
   "id": "2d1a0563",
   "metadata": {
    "scrolled": true
   },
   "outputs": [
    {
     "data": {
      "text/plain": [
       "<AxesSubplot:xlabel='avg_late_time', ylabel='seller_time_diff'>"
      ]
     },
     "execution_count": 56,
     "metadata": {},
     "output_type": "execute_result"
    },
    {
     "data": {
      "image/png": "[encoded data removed]",
      "text/plain": [
       "<Figure size 1440x720 with 1 Axes>"
      ]
     },
     "metadata": {
      "needs_background": "light"
     },
     "output_type": "display_data"
    }
   ],
   "source": [
    "#Seller time difference (day diff when they deliver orders in time vs late in average) and late_time\n",
    "plt.figure(figsize=(20,10))\n",
    "sns.scatterplot(x='avg_late_time', y='seller_time_diff', data=compare)"
   ]
  },
  {
   "cell_type": "markdown",
   "id": "bb0e957a",
   "metadata": {},
   "source": [
    "From 2 scatterplots above, it seems that long delivery times by logistics partners might be a cause of order delays rather than sellers."
   ]
  },
  {
   "cell_type": "markdown",
   "id": "30490fed",
   "metadata": {},
   "source": [
    "Question: Does the volume, or bulkiness of the goods affect orders?"
   ]
  },
  {
   "cell_type": "code",
   "execution_count": 57,
   "id": "2450ea58",
   "metadata": {},
   "outputs": [
    {
     "name": "stdout",
     "output_type": "stream",
     "text": [
      "<class 'pandas.core.frame.DataFrame'>\n",
      "Int64Index: 109569 entries, 0 to 109568\n",
      "Data columns (total 36 columns):\n",
      " #   Column                            Non-Null Count   Dtype         \n",
      "---  ------                            --------------   -----         \n",
      " 0   order_id                          109569 non-null  object        \n",
      " 1   order_item_id                     109569 non-null  int64         \n",
      " 2   product_id                        109569 non-null  object        \n",
      " 3   seller_id                         109569 non-null  object        \n",
      " 4   shipping_limit_date               109569 non-null  datetime64[ns]\n",
      " 5   price                             109569 non-null  float64       \n",
      " 6   freight_value                     109569 non-null  float64       \n",
      " 7   customer_id                       109569 non-null  object        \n",
      " 8   order_status                      109569 non-null  object        \n",
      " 9   order_purchase_timestamp          109569 non-null  object        \n",
      " 10  order_approved_at                 109569 non-null  object        \n",
      " 11  order_delivered_carrier_date      109569 non-null  object        \n",
      " 12  order_delivered_customer_date     109569 non-null  object        \n",
      " 13  order_estimated_delivery_date     109569 non-null  object        \n",
      " 14  process_time                      109569 non-null  int64         \n",
      " 15  day_difference                    109569 non-null  int64         \n",
      " 16  approve_time                      109569 non-null  int64         \n",
      " 17  seller_process_time               109569 non-null  int64         \n",
      " 18  logistics_time                    109569 non-null  int64         \n",
      " 19  month                             109569 non-null  int64         \n",
      " 20  is_late                           109569 non-null  int64         \n",
      " 21  late_time                         7235 non-null    float64       \n",
      " 22  cus_state                         109569 non-null  object        \n",
      " 23  state_name                        109569 non-null  object        \n",
      " 24  customer_city                     109569 non-null  object        \n",
      " 25  cus_lat                           109569 non-null  float64       \n",
      " 26  cus_lng                           109569 non-null  float64       \n",
      " 27  product_category_name             108040 non-null  object        \n",
      " 28  product_category_name_in_english  108040 non-null  object        \n",
      " 29  product_name_lenght               108040 non-null  float64       \n",
      " 30  product_description_lenght        108040 non-null  float64       \n",
      " 31  product_photos_qty                108040 non-null  float64       \n",
      " 32  product_weight_g                  109551 non-null  float64       \n",
      " 33  product_length_cm                 109551 non-null  float64       \n",
      " 34  product_height_cm                 109551 non-null  float64       \n",
      " 35  product_width_cm                  109551 non-null  float64       \n",
      "dtypes: datetime64[ns](1), float64(12), int64(8), object(15)\n",
      "memory usage: 30.9+ MB\n"
     ]
    }
   ],
   "source": [
    "#create items_orders\n",
    "items_orders = items.merge(order_customer_geo, how='inner', on='order_id').merge(products, how='inner', on='product_id')\n",
    "items_orders.info()"
   ]
  },
  {
   "cell_type": "code",
   "execution_count": 58,
   "id": "136fd5ff",
   "metadata": {},
   "outputs": [],
   "source": [
    "items_orders['measure'] = items_orders['product_length_cm'] * items_orders['product_height_cm'] * items_orders['product_width_cm']"
   ]
  },
  {
   "cell_type": "code",
   "execution_count": 59,
   "id": "f33e5704",
   "metadata": {},
   "outputs": [
    {
     "data": {
      "text/html": [
       "<div>\n",
       "<style scoped>\n",
       "    .dataframe tbody tr th:only-of-type {\n",
       "        vertical-align: middle;\n",
       "    }\n",
       "\n",
       "    .dataframe tbody tr th {\n",
       "        vertical-align: top;\n",
       "    }\n",
       "\n",
       "    .dataframe thead th {\n",
       "        text-align: right;\n",
       "    }\n",
       "</style>\n",
       "<table border=\"1\" class=\"dataframe\">\n",
       "  <thead>\n",
       "    <tr style=\"text-align: right;\">\n",
       "      <th></th>\n",
       "      <th>measure</th>\n",
       "      <th>product_weight_g</th>\n",
       "    </tr>\n",
       "    <tr>\n",
       "      <th>is_late</th>\n",
       "      <th></th>\n",
       "      <th></th>\n",
       "    </tr>\n",
       "  </thead>\n",
       "  <tbody>\n",
       "    <tr>\n",
       "      <th>0</th>\n",
       "      <td>15035.860364</td>\n",
       "      <td>2063.729984</td>\n",
       "    </tr>\n",
       "    <tr>\n",
       "      <th>1</th>\n",
       "      <td>17136.591569</td>\n",
       "      <td>2462.829026</td>\n",
       "    </tr>\n",
       "  </tbody>\n",
       "</table>\n",
       "</div>"
      ],
      "text/plain": [
       "              measure  product_weight_g\n",
       "is_late                                \n",
       "0        15035.860364       2063.729984\n",
       "1        17136.591569       2462.829026"
      ]
     },
     "execution_count": 59,
     "metadata": {},
     "output_type": "execute_result"
    }
   ],
   "source": [
    "items_orders.astype({'is_late': str})\n",
    "items_orders.groupby('is_late')[['measure','product_weight_g']].mean()"
   ]
  },
  {
   "cell_type": "code",
   "execution_count": 60,
   "id": "66f7eb6d",
   "metadata": {},
   "outputs": [
    {
     "data": {
      "text/plain": [
       "[<matplotlib.lines.Line2D at 0x242b854e520>]"
      ]
     },
     "execution_count": 60,
     "metadata": {},
     "output_type": "execute_result"
    },
    {
     "data": {
      "image/png": "[encoded data removed]",
      "text/plain": [
       "<Figure size 432x288 with 1 Axes>"
      ]
     },
     "metadata": {
      "needs_background": "light"
     },
     "output_type": "display_data"
    }
   ],
   "source": [
    "def ecdf(df, column):\n",
    "    x = np.sort(df[column])\n",
    "    y = np.arange(1, len(x) + 1) / len(x)\n",
    "    return plt.plot(x, y, marker='.', linestyle='none')\n",
    "\n",
    "#measure\n",
    "late = items_orders[items_orders['is_late'] == 1]\n",
    "ecdf(late, 'measure')\n",
    "\n",
    "not_late = items_orders[items_orders['is_late'] == 0]\n",
    "ecdf(not_late, 'measure')"
   ]
  },
  {
   "cell_type": "code",
   "execution_count": 61,
   "id": "949152d0",
   "metadata": {
    "scrolled": true
   },
   "outputs": [
    {
     "data": {
      "text/plain": [
       "[<matplotlib.lines.Line2D at 0x242b4559df0>]"
      ]
     },
     "execution_count": 61,
     "metadata": {},
     "output_type": "execute_result"
    },
    {
     "data": {
      "image/png": "[encoded data removed]",
      "text/plain": [
       "<Figure size 432x288 with 1 Axes>"
      ]
     },
     "metadata": {
      "needs_background": "light"
     },
     "output_type": "display_data"
    }
   ],
   "source": [
    "#product_weight_g\n",
    "late = items_orders[items_orders['is_late'] == 1]\n",
    "ecdf(late, 'product_weight_g')\n",
    "\n",
    "not_late = items_orders[items_orders['is_late'] == 0]\n",
    "ecdf(not_late, 'product_weight_g')"
   ]
  },
  {
   "cell_type": "markdown",
   "id": "4a6a8e70",
   "metadata": {},
   "source": [
    "There is no discernible difference between timely and delayed orders in terms of size and volume of products"
   ]
  },
  {
   "cell_type": "markdown",
   "id": "8136b37c",
   "metadata": {},
   "source": [
    "Question: Customers have bad reviews for late orders?"
   ]
  },
  {
   "cell_type": "code",
   "execution_count": 62,
   "id": "022bc33f",
   "metadata": {},
   "outputs": [
    {
     "data": {
      "text/plain": [
       "review_score\n",
       "1    0.369130\n",
       "2    0.190080\n",
       "3    0.088262\n",
       "4    0.034455\n",
       "5    0.018490\n",
       "Name: is_late, dtype: float64"
      ]
     },
     "execution_count": 62,
     "metadata": {},
     "output_type": "execute_result"
    }
   ],
   "source": [
    "order_customer_geo_review = order_customer_geo.merge(reviews, how='inner', on='order_id')\n",
    "order_customer_geo_review.groupby('review_score')['is_late'].sum() /order_customer_geo_review.groupby('review_score')['is_late'].count()"
   ]
  },
  {
   "cell_type": "code",
   "execution_count": 63,
   "id": "14d24cd2",
   "metadata": {},
   "outputs": [
    {
     "data": {
      "text/plain": [
       "is_late\n",
       "0    4.293028\n",
       "1    2.269346\n",
       "Name: review_score, dtype: float64"
      ]
     },
     "execution_count": 63,
     "metadata": {},
     "output_type": "execute_result"
    }
   ],
   "source": [
    "order_customer_geo_review.groupby('is_late')['review_score'].mean()"
   ]
  },
  {
   "cell_type": "markdown",
   "id": "7c885c85",
   "metadata": {},
   "source": [
    "About 57% of 1-star and 2-star reviews are delayed order. To know the exact cause of these reviews, it is necessary to study more closely the comments left by customers before drawing definite conclusions."
   ]
  },
  {
   "cell_type": "markdown",
   "id": "6a5c3090",
   "metadata": {},
   "source": [
    "Questions: How are payment methods?"
   ]
  },
  {
   "cell_type": "code",
   "execution_count": 64,
   "id": "a17be8a7",
   "metadata": {},
   "outputs": [
    {
     "data": {
      "text/html": [
       "<div>\n",
       "<style scoped>\n",
       "    .dataframe tbody tr th:only-of-type {\n",
       "        vertical-align: middle;\n",
       "    }\n",
       "\n",
       "    .dataframe tbody tr th {\n",
       "        vertical-align: top;\n",
       "    }\n",
       "\n",
       "    .dataframe thead th {\n",
       "        text-align: right;\n",
       "    }\n",
       "</style>\n",
       "<table border=\"1\" class=\"dataframe\">\n",
       "  <thead>\n",
       "    <tr style=\"text-align: right;\">\n",
       "      <th></th>\n",
       "      <th>order_id</th>\n",
       "      <th>payment_sequential</th>\n",
       "      <th>payment_type</th>\n",
       "      <th>payment_installments</th>\n",
       "      <th>payment_value</th>\n",
       "    </tr>\n",
       "  </thead>\n",
       "  <tbody>\n",
       "    <tr>\n",
       "      <th>0</th>\n",
       "      <td>b81ef226f3fe1789b1e8b2acac839d17</td>\n",
       "      <td>1</td>\n",
       "      <td>credit_card</td>\n",
       "      <td>8</td>\n",
       "      <td>99.33</td>\n",
       "    </tr>\n",
       "    <tr>\n",
       "      <th>1</th>\n",
       "      <td>a9810da82917af2d9aefd1278f1dcfa0</td>\n",
       "      <td>1</td>\n",
       "      <td>credit_card</td>\n",
       "      <td>1</td>\n",
       "      <td>24.39</td>\n",
       "    </tr>\n",
       "    <tr>\n",
       "      <th>2</th>\n",
       "      <td>25e8ea4e93396b6fa0d3dd708e76c1bd</td>\n",
       "      <td>1</td>\n",
       "      <td>credit_card</td>\n",
       "      <td>1</td>\n",
       "      <td>65.71</td>\n",
       "    </tr>\n",
       "    <tr>\n",
       "      <th>3</th>\n",
       "      <td>ba78997921bbcdc1373bb41e913ab953</td>\n",
       "      <td>1</td>\n",
       "      <td>credit_card</td>\n",
       "      <td>8</td>\n",
       "      <td>107.78</td>\n",
       "    </tr>\n",
       "    <tr>\n",
       "      <th>4</th>\n",
       "      <td>42fdf880ba16b47b59251dd489d4441a</td>\n",
       "      <td>1</td>\n",
       "      <td>credit_card</td>\n",
       "      <td>2</td>\n",
       "      <td>128.45</td>\n",
       "    </tr>\n",
       "  </tbody>\n",
       "</table>\n",
       "</div>"
      ],
      "text/plain": [
       "                           order_id  payment_sequential payment_type  \\\n",
       "0  b81ef226f3fe1789b1e8b2acac839d17                   1  credit_card   \n",
       "1  a9810da82917af2d9aefd1278f1dcfa0                   1  credit_card   \n",
       "2  25e8ea4e93396b6fa0d3dd708e76c1bd                   1  credit_card   \n",
       "3  ba78997921bbcdc1373bb41e913ab953                   1  credit_card   \n",
       "4  42fdf880ba16b47b59251dd489d4441a                   1  credit_card   \n",
       "\n",
       "   payment_installments  payment_value  \n",
       "0                     8          99.33  \n",
       "1                     1          24.39  \n",
       "2                     1          65.71  \n",
       "3                     8         107.78  \n",
       "4                     2         128.45  "
      ]
     },
     "execution_count": 64,
     "metadata": {},
     "output_type": "execute_result"
    }
   ],
   "source": [
    "payments.head()"
   ]
  },
  {
   "cell_type": "code",
   "execution_count": 65,
   "id": "4afbd585",
   "metadata": {},
   "outputs": [
    {
     "data": {
      "text/html": [
       "<div>\n",
       "<style scoped>\n",
       "    .dataframe tbody tr th:only-of-type {\n",
       "        vertical-align: middle;\n",
       "    }\n",
       "\n",
       "    .dataframe tbody tr th {\n",
       "        vertical-align: top;\n",
       "    }\n",
       "\n",
       "    .dataframe thead th {\n",
       "        text-align: right;\n",
       "    }\n",
       "</style>\n",
       "<table border=\"1\" class=\"dataframe\">\n",
       "  <thead>\n",
       "    <tr style=\"text-align: right;\">\n",
       "      <th></th>\n",
       "      <th>payment_value</th>\n",
       "      <th>order_id</th>\n",
       "    </tr>\n",
       "    <tr>\n",
       "      <th>payment_type</th>\n",
       "      <th></th>\n",
       "      <th></th>\n",
       "    </tr>\n",
       "  </thead>\n",
       "  <tbody>\n",
       "    <tr>\n",
       "      <th>boleto</th>\n",
       "      <td>2869361.27</td>\n",
       "      <td>19784</td>\n",
       "    </tr>\n",
       "    <tr>\n",
       "      <th>credit_card</th>\n",
       "      <td>12542084.19</td>\n",
       "      <td>76795</td>\n",
       "    </tr>\n",
       "    <tr>\n",
       "      <th>debit_card</th>\n",
       "      <td>217989.79</td>\n",
       "      <td>1529</td>\n",
       "    </tr>\n",
       "    <tr>\n",
       "      <th>not_defined</th>\n",
       "      <td>0.00</td>\n",
       "      <td>3</td>\n",
       "    </tr>\n",
       "    <tr>\n",
       "      <th>voucher</th>\n",
       "      <td>379436.87</td>\n",
       "      <td>5775</td>\n",
       "    </tr>\n",
       "  </tbody>\n",
       "</table>\n",
       "</div>"
      ],
      "text/plain": [
       "              payment_value  order_id\n",
       "payment_type                         \n",
       "boleto           2869361.27     19784\n",
       "credit_card     12542084.19     76795\n",
       "debit_card        217989.79      1529\n",
       "not_defined            0.00         3\n",
       "voucher           379436.87      5775"
      ]
     },
     "execution_count": 65,
     "metadata": {},
     "output_type": "execute_result"
    }
   ],
   "source": [
    "payments.groupby('payment_type')[['payment_value', 'order_id']].agg({'payment_value':'sum', 'order_id':'count'})"
   ]
  },
  {
   "cell_type": "markdown",
   "id": "63c1a4d6",
   "metadata": {},
   "source": [
    "There are 3 orders with not_defined payment type and 0 value so let's remove them from the data for further analysis to avoid data noise. \n"
   ]
  },
  {
   "cell_type": "code",
   "execution_count": 66,
   "id": "e9908d54",
   "metadata": {},
   "outputs": [],
   "source": [
    "payments = payments[payments['payment_type'] != 'not_defined']"
   ]
  },
  {
   "cell_type": "code",
   "execution_count": 67,
   "id": "a8ce8057",
   "metadata": {},
   "outputs": [
    {
     "data": {
      "text/plain": [
       "<AxesSubplot:ylabel='payment_value'>"
      ]
     },
     "execution_count": 67,
     "metadata": {},
     "output_type": "execute_result"
    },
    {
     "data": {
      "image/png": "[encoded data removed]",
      "text/plain": [
       "<Figure size 2880x720 with 1 Axes>"
      ]
     },
     "metadata": {},
     "output_type": "display_data"
    }
   ],
   "source": [
    "plt.figure(figsize=(40,10))\n",
    "payments.groupby('payment_type')['payment_value'].sum().sort_values(ascending=False).plot(kind='pie')"
   ]
  },
  {
   "cell_type": "code",
   "execution_count": 68,
   "id": "e6c241d5",
   "metadata": {},
   "outputs": [
    {
     "data": {
      "text/html": [
       "<div>\n",
       "<style scoped>\n",
       "    .dataframe tbody tr th:only-of-type {\n",
       "        vertical-align: middle;\n",
       "    }\n",
       "\n",
       "    .dataframe tbody tr th {\n",
       "        vertical-align: top;\n",
       "    }\n",
       "\n",
       "    .dataframe thead tr th {\n",
       "        text-align: left;\n",
       "    }\n",
       "\n",
       "    .dataframe thead tr:last-of-type th {\n",
       "        text-align: right;\n",
       "    }\n",
       "</style>\n",
       "<table border=\"1\" class=\"dataframe\">\n",
       "  <thead>\n",
       "    <tr>\n",
       "      <th></th>\n",
       "      <th colspan=\"4\" halign=\"left\">payment_installments</th>\n",
       "      <th colspan=\"4\" halign=\"left\">payment_sequential</th>\n",
       "    </tr>\n",
       "    <tr>\n",
       "      <th></th>\n",
       "      <th>min</th>\n",
       "      <th>max</th>\n",
       "      <th>mean</th>\n",
       "      <th>median</th>\n",
       "      <th>min</th>\n",
       "      <th>max</th>\n",
       "      <th>mean</th>\n",
       "      <th>median</th>\n",
       "    </tr>\n",
       "    <tr>\n",
       "      <th>payment_type</th>\n",
       "      <th></th>\n",
       "      <th></th>\n",
       "      <th></th>\n",
       "      <th></th>\n",
       "      <th></th>\n",
       "      <th></th>\n",
       "      <th></th>\n",
       "      <th></th>\n",
       "    </tr>\n",
       "  </thead>\n",
       "  <tbody>\n",
       "    <tr>\n",
       "      <th>boleto</th>\n",
       "      <td>1</td>\n",
       "      <td>1</td>\n",
       "      <td>1.000000</td>\n",
       "      <td>1.0</td>\n",
       "      <td>1</td>\n",
       "      <td>2</td>\n",
       "      <td>1.000051</td>\n",
       "      <td>1.0</td>\n",
       "    </tr>\n",
       "    <tr>\n",
       "      <th>credit_card</th>\n",
       "      <td>0</td>\n",
       "      <td>24</td>\n",
       "      <td>3.507155</td>\n",
       "      <td>3.0</td>\n",
       "      <td>1</td>\n",
       "      <td>3</td>\n",
       "      <td>1.004167</td>\n",
       "      <td>1.0</td>\n",
       "    </tr>\n",
       "    <tr>\n",
       "      <th>debit_card</th>\n",
       "      <td>1</td>\n",
       "      <td>1</td>\n",
       "      <td>1.000000</td>\n",
       "      <td>1.0</td>\n",
       "      <td>1</td>\n",
       "      <td>3</td>\n",
       "      <td>1.034663</td>\n",
       "      <td>1.0</td>\n",
       "    </tr>\n",
       "    <tr>\n",
       "      <th>voucher</th>\n",
       "      <td>1</td>\n",
       "      <td>1</td>\n",
       "      <td>1.000000</td>\n",
       "      <td>1.0</td>\n",
       "      <td>1</td>\n",
       "      <td>29</td>\n",
       "      <td>2.602424</td>\n",
       "      <td>2.0</td>\n",
       "    </tr>\n",
       "  </tbody>\n",
       "</table>\n",
       "</div>"
      ],
      "text/plain": [
       "             payment_installments                      payment_sequential      \\\n",
       "                              min max      mean median                min max   \n",
       "payment_type                                                                    \n",
       "boleto                          1   1  1.000000    1.0                  1   2   \n",
       "credit_card                     0  24  3.507155    3.0                  1   3   \n",
       "debit_card                      1   1  1.000000    1.0                  1   3   \n",
       "voucher                         1   1  1.000000    1.0                  1  29   \n",
       "\n",
       "                               \n",
       "                  mean median  \n",
       "payment_type                   \n",
       "boleto        1.000051    1.0  \n",
       "credit_card   1.004167    1.0  \n",
       "debit_card    1.034663    1.0  \n",
       "voucher       2.602424    2.0  "
      ]
     },
     "execution_count": 68,
     "metadata": {},
     "output_type": "execute_result"
    }
   ],
   "source": [
    "payments.groupby('payment_type')[['payment_installments', 'payment_sequential']].agg(['min', 'max', 'mean', 'median'])"
   ]
  },
  {
   "cell_type": "markdown",
   "id": "3cd0eec7",
   "metadata": {},
   "source": [
    "Installment only applies to payment by credit card. Payments with vouchers tend to be split more times than other types in 1 order."
   ]
  },
  {
   "cell_type": "markdown",
   "id": "b47e851a",
   "metadata": {},
   "source": [
    "Use Biquery to create payment_per_order table\n",
    "SELECT order_id, payment_type, sum(payment_value) AS payment_value, ROW_NUMBER() OVER(PARTITION BY order_id ORDER BY payment_type) AS row_no\n",
    "FROM `hien-348414.Ecommerce220822.olist_order_payments_dataset`\n",
    "WHERE payment_type != 'not_defined'\n",
    "GROUP BY order_id, payment_type"
   ]
  },
  {
   "cell_type": "code",
   "execution_count": 69,
   "id": "7a437387",
   "metadata": {},
   "outputs": [
    {
     "data": {
      "text/html": [
       "<div>\n",
       "<style scoped>\n",
       "    .dataframe tbody tr th:only-of-type {\n",
       "        vertical-align: middle;\n",
       "    }\n",
       "\n",
       "    .dataframe tbody tr th {\n",
       "        vertical-align: top;\n",
       "    }\n",
       "\n",
       "    .dataframe thead th {\n",
       "        text-align: right;\n",
       "    }\n",
       "</style>\n",
       "<table border=\"1\" class=\"dataframe\">\n",
       "  <thead>\n",
       "    <tr style=\"text-align: right;\">\n",
       "      <th></th>\n",
       "      <th>order_id</th>\n",
       "      <th>payment_type</th>\n",
       "      <th>payment_value</th>\n",
       "      <th>row_no</th>\n",
       "    </tr>\n",
       "  </thead>\n",
       "  <tbody>\n",
       "    <tr>\n",
       "      <th>0</th>\n",
       "      <td>00949655cdd8d0465e433a5e6c9643e5</td>\n",
       "      <td>boleto</td>\n",
       "      <td>25.87</td>\n",
       "      <td>1</td>\n",
       "    </tr>\n",
       "    <tr>\n",
       "      <th>1</th>\n",
       "      <td>0292fb46a5e22715459cb9a7b96e7aae</td>\n",
       "      <td>boleto</td>\n",
       "      <td>82.45</td>\n",
       "      <td>1</td>\n",
       "    </tr>\n",
       "    <tr>\n",
       "      <th>2</th>\n",
       "      <td>03ee7babeb6e80cbb48962ce1719fcf7</td>\n",
       "      <td>boleto</td>\n",
       "      <td>198.59</td>\n",
       "      <td>1</td>\n",
       "    </tr>\n",
       "    <tr>\n",
       "      <th>3</th>\n",
       "      <td>06f9b3a828a976a2fca71a4ebf55b1b2</td>\n",
       "      <td>boleto</td>\n",
       "      <td>54.09</td>\n",
       "      <td>1</td>\n",
       "    </tr>\n",
       "    <tr>\n",
       "      <th>4</th>\n",
       "      <td>09a38776c4e31230864f867821174daa</td>\n",
       "      <td>boleto</td>\n",
       "      <td>100.23</td>\n",
       "      <td>1</td>\n",
       "    </tr>\n",
       "  </tbody>\n",
       "</table>\n",
       "</div>"
      ],
      "text/plain": [
       "                           order_id payment_type  payment_value  row_no\n",
       "0  00949655cdd8d0465e433a5e6c9643e5       boleto          25.87       1\n",
       "1  0292fb46a5e22715459cb9a7b96e7aae       boleto          82.45       1\n",
       "2  03ee7babeb6e80cbb48962ce1719fcf7       boleto         198.59       1\n",
       "3  06f9b3a828a976a2fca71a4ebf55b1b2       boleto          54.09       1\n",
       "4  09a38776c4e31230864f867821174daa       boleto         100.23       1"
      ]
     },
     "execution_count": 69,
     "metadata": {},
     "output_type": "execute_result"
    }
   ],
   "source": [
    "payment_per_order = pd.read_csv(r\"C:\\Users\\PC\\Downloads\\bq-results-20220913-141758-1663078970041.csv\")\n",
    "payment_per_order.head()"
   ]
  },
  {
   "cell_type": "code",
   "execution_count": 70,
   "id": "144d246f",
   "metadata": {},
   "outputs": [
    {
     "data": {
      "text/plain": [
       "min    1\n",
       "max    2\n",
       "Name: row_no, dtype: int64"
      ]
     },
     "execution_count": 70,
     "metadata": {},
     "output_type": "execute_result"
    }
   ],
   "source": [
    "payment_per_order['row_no'].agg(['min', 'max'])"
   ]
  },
  {
   "cell_type": "markdown",
   "id": "3f94844a",
   "metadata": {},
   "source": [
    "In 1 order, there are maximum 2 type of payment applied."
   ]
  },
  {
   "cell_type": "code",
   "execution_count": 71,
   "id": "60aa0af1",
   "metadata": {},
   "outputs": [],
   "source": [
    "two_payment_per_order = payment_per_order[payment_per_order['row_no'] == 2]"
   ]
  },
  {
   "cell_type": "code",
   "execution_count": 72,
   "id": "d801954f",
   "metadata": {},
   "outputs": [],
   "source": [
    "two_payment_per_order = payment_per_order.merge(two_payment_per_order, how='inner', on='order_id')"
   ]
  },
  {
   "cell_type": "code",
   "execution_count": 73,
   "id": "db053b3e",
   "metadata": {},
   "outputs": [
    {
     "data": {
      "text/plain": [
       "array(['voucher', 'credit_card', 'debit_card'], dtype=object)"
      ]
     },
     "execution_count": 73,
     "metadata": {},
     "output_type": "execute_result"
    }
   ],
   "source": [
    "two_payment_per_order['payment_type_x'].unique()"
   ]
  },
  {
   "cell_type": "markdown",
   "id": "648642f3",
   "metadata": {},
   "source": [
    "With orders have 2 payment_type: they are the combinations of 2 out of 3: voucher, credit_card, debit_card"
   ]
  },
  {
   "cell_type": "code",
   "execution_count": 74,
   "id": "1e26ccdc",
   "metadata": {},
   "outputs": [
    {
     "data": {
      "text/html": [
       "<div>\n",
       "<style scoped>\n",
       "    .dataframe tbody tr th:only-of-type {\n",
       "        vertical-align: middle;\n",
       "    }\n",
       "\n",
       "    .dataframe tbody tr th {\n",
       "        vertical-align: top;\n",
       "    }\n",
       "\n",
       "    .dataframe thead th {\n",
       "        text-align: right;\n",
       "    }\n",
       "</style>\n",
       "<table border=\"1\" class=\"dataframe\">\n",
       "  <thead>\n",
       "    <tr style=\"text-align: right;\">\n",
       "      <th></th>\n",
       "      <th>order_id</th>\n",
       "      <th>payment_type_x</th>\n",
       "      <th>payment_value_x</th>\n",
       "      <th>row_no_x</th>\n",
       "      <th>payment_type_y</th>\n",
       "      <th>payment_value_y</th>\n",
       "      <th>row_no_y</th>\n",
       "    </tr>\n",
       "  </thead>\n",
       "  <tbody>\n",
       "    <tr>\n",
       "      <th>2421</th>\n",
       "      <td>0016dfedd97fc2950e388d2971d718c7</td>\n",
       "      <td>credit_card</td>\n",
       "      <td>52.63</td>\n",
       "      <td>1</td>\n",
       "      <td>voucher</td>\n",
       "      <td>17.92</td>\n",
       "      <td>2</td>\n",
       "    </tr>\n",
       "    <tr>\n",
       "      <th>2420</th>\n",
       "      <td>0016dfedd97fc2950e388d2971d718c7</td>\n",
       "      <td>voucher</td>\n",
       "      <td>17.92</td>\n",
       "      <td>2</td>\n",
       "      <td>voucher</td>\n",
       "      <td>17.92</td>\n",
       "      <td>2</td>\n",
       "    </tr>\n",
       "    <tr>\n",
       "      <th>3853</th>\n",
       "      <td>009ac365164f8e06f59d18a08045f6c4</td>\n",
       "      <td>credit_card</td>\n",
       "      <td>0.88</td>\n",
       "      <td>1</td>\n",
       "      <td>voucher</td>\n",
       "      <td>31.12</td>\n",
       "      <td>2</td>\n",
       "    </tr>\n",
       "    <tr>\n",
       "      <th>3852</th>\n",
       "      <td>009ac365164f8e06f59d18a08045f6c4</td>\n",
       "      <td>voucher</td>\n",
       "      <td>31.12</td>\n",
       "      <td>2</td>\n",
       "      <td>voucher</td>\n",
       "      <td>31.12</td>\n",
       "      <td>2</td>\n",
       "    </tr>\n",
       "    <tr>\n",
       "      <th>1085</th>\n",
       "      <td>00b4a910f64f24dbcac04fe54088a443</td>\n",
       "      <td>credit_card</td>\n",
       "      <td>2.54</td>\n",
       "      <td>1</td>\n",
       "      <td>voucher</td>\n",
       "      <td>48.05</td>\n",
       "      <td>2</td>\n",
       "    </tr>\n",
       "    <tr>\n",
       "      <th>...</th>\n",
       "      <td>...</td>\n",
       "      <td>...</td>\n",
       "      <td>...</td>\n",
       "      <td>...</td>\n",
       "      <td>...</td>\n",
       "      <td>...</td>\n",
       "      <td>...</td>\n",
       "    </tr>\n",
       "    <tr>\n",
       "      <th>4440</th>\n",
       "      <td>ff7400d904161b62b6e830b3988f5cbd</td>\n",
       "      <td>voucher</td>\n",
       "      <td>100.00</td>\n",
       "      <td>2</td>\n",
       "      <td>voucher</td>\n",
       "      <td>100.00</td>\n",
       "      <td>2</td>\n",
       "    </tr>\n",
       "    <tr>\n",
       "      <th>1365</th>\n",
       "      <td>ffa1dd97810de91a03abd7bd76d2fed1</td>\n",
       "      <td>credit_card</td>\n",
       "      <td>36.58</td>\n",
       "      <td>1</td>\n",
       "      <td>voucher</td>\n",
       "      <td>418.73</td>\n",
       "      <td>2</td>\n",
       "    </tr>\n",
       "    <tr>\n",
       "      <th>1364</th>\n",
       "      <td>ffa1dd97810de91a03abd7bd76d2fed1</td>\n",
       "      <td>voucher</td>\n",
       "      <td>418.73</td>\n",
       "      <td>2</td>\n",
       "      <td>voucher</td>\n",
       "      <td>418.73</td>\n",
       "      <td>2</td>\n",
       "    </tr>\n",
       "    <tr>\n",
       "      <th>3143</th>\n",
       "      <td>ffa39020fe7c8a3e907320e1bec4b985</td>\n",
       "      <td>credit_card</td>\n",
       "      <td>7.13</td>\n",
       "      <td>1</td>\n",
       "      <td>voucher</td>\n",
       "      <td>64.01</td>\n",
       "      <td>2</td>\n",
       "    </tr>\n",
       "    <tr>\n",
       "      <th>3142</th>\n",
       "      <td>ffa39020fe7c8a3e907320e1bec4b985</td>\n",
       "      <td>voucher</td>\n",
       "      <td>64.01</td>\n",
       "      <td>2</td>\n",
       "      <td>voucher</td>\n",
       "      <td>64.01</td>\n",
       "      <td>2</td>\n",
       "    </tr>\n",
       "  </tbody>\n",
       "</table>\n",
       "<p>4492 rows × 7 columns</p>\n",
       "</div>"
      ],
      "text/plain": [
       "                              order_id payment_type_x  payment_value_x  \\\n",
       "2421  0016dfedd97fc2950e388d2971d718c7    credit_card            52.63   \n",
       "2420  0016dfedd97fc2950e388d2971d718c7        voucher            17.92   \n",
       "3853  009ac365164f8e06f59d18a08045f6c4    credit_card             0.88   \n",
       "3852  009ac365164f8e06f59d18a08045f6c4        voucher            31.12   \n",
       "1085  00b4a910f64f24dbcac04fe54088a443    credit_card             2.54   \n",
       "...                                ...            ...              ...   \n",
       "4440  ff7400d904161b62b6e830b3988f5cbd        voucher           100.00   \n",
       "1365  ffa1dd97810de91a03abd7bd76d2fed1    credit_card            36.58   \n",
       "1364  ffa1dd97810de91a03abd7bd76d2fed1        voucher           418.73   \n",
       "3143  ffa39020fe7c8a3e907320e1bec4b985    credit_card             7.13   \n",
       "3142  ffa39020fe7c8a3e907320e1bec4b985        voucher            64.01   \n",
       "\n",
       "      row_no_x payment_type_y  payment_value_y  row_no_y  \n",
       "2421         1        voucher            17.92         2  \n",
       "2420         2        voucher            17.92         2  \n",
       "3853         1        voucher            31.12         2  \n",
       "3852         2        voucher            31.12         2  \n",
       "1085         1        voucher            48.05         2  \n",
       "...        ...            ...              ...       ...  \n",
       "4440         2        voucher           100.00         2  \n",
       "1365         1        voucher           418.73         2  \n",
       "1364         2        voucher           418.73         2  \n",
       "3143         1        voucher            64.01         2  \n",
       "3142         2        voucher            64.01         2  \n",
       "\n",
       "[4492 rows x 7 columns]"
      ]
     },
     "execution_count": 74,
     "metadata": {},
     "output_type": "execute_result"
    }
   ],
   "source": [
    "two_payment_per_order.sort_values(by=['order_id', 'payment_type_x'])"
   ]
  },
  {
   "cell_type": "code",
   "execution_count": 75,
   "id": "e1ed032c",
   "metadata": {},
   "outputs": [
    {
     "data": {
      "text/html": [
       "<div>\n",
       "<style scoped>\n",
       "    .dataframe tbody tr th:only-of-type {\n",
       "        vertical-align: middle;\n",
       "    }\n",
       "\n",
       "    .dataframe tbody tr th {\n",
       "        vertical-align: top;\n",
       "    }\n",
       "\n",
       "    .dataframe thead th {\n",
       "        text-align: right;\n",
       "    }\n",
       "</style>\n",
       "<table border=\"1\" class=\"dataframe\">\n",
       "  <thead>\n",
       "    <tr style=\"text-align: right;\">\n",
       "      <th></th>\n",
       "      <th>max</th>\n",
       "      <th>min</th>\n",
       "    </tr>\n",
       "    <tr>\n",
       "      <th>payment_type_x</th>\n",
       "      <th></th>\n",
       "      <th></th>\n",
       "    </tr>\n",
       "  </thead>\n",
       "  <tbody>\n",
       "    <tr>\n",
       "      <th>credit_card</th>\n",
       "      <td>1</td>\n",
       "      <td>1</td>\n",
       "    </tr>\n",
       "    <tr>\n",
       "      <th>debit_card</th>\n",
       "      <td>2</td>\n",
       "      <td>2</td>\n",
       "    </tr>\n",
       "    <tr>\n",
       "      <th>voucher</th>\n",
       "      <td>2</td>\n",
       "      <td>2</td>\n",
       "    </tr>\n",
       "  </tbody>\n",
       "</table>\n",
       "</div>"
      ],
      "text/plain": [
       "                max  min\n",
       "payment_type_x          \n",
       "credit_card       1    1\n",
       "debit_card        2    2\n",
       "voucher           2    2"
      ]
     },
     "execution_count": 75,
     "metadata": {},
     "output_type": "execute_result"
    }
   ],
   "source": [
    "two_payment_per_order.groupby('payment_type_x')['row_no_x'].agg(['max', 'min'])"
   ]
  },
  {
   "cell_type": "markdown",
   "id": "7f8375c6",
   "metadata": {},
   "source": [
    "So there only 2 combinations = credit and voucher or credit and debit card.\n",
    "\n",
    "Basing on outputs above, let's redefine payment type into: boleto, credit_card, debit_card, voucher, credit_debit, credit_voucher.\n",
    "\n",
    "Use Bigquery\n",
    "\"\n",
    "WITH unique_payment_type_per_order AS (SELECT order_id, count(distinct payment_type) AS row_no\n",
    "FROM `hien-348414.Ecommerce220822.olist_order_payments_dataset`\n",
    "WHERE payment_type != 'not_defined'\n",
    "GROUP BY order_id),\n",
    "payment AS(SELECT y.order_id, payment_value,\n",
    "        CASE WHEN y.row_no = 1 THEN payment_type\n",
    "        WHEN y.row_no = 2 AND payment_type = 'voucher' THEN 'credit_voucher'\n",
    "        ELSE 'credit_debit' END AS payment_type_per_order\n",
    "FROM (\n",
    "SELECT order_id, payment_type, sum(payment_value) AS payment_value, ROW_NUMBER() OVER(PARTITION BY order_id ORDER BY payment_type) AS row_no\n",
    "FROM `hien-348414.Ecommerce220822.olist_order_payments_dataset`\n",
    "GROUP BY order_id, payment_type) AS y \n",
    "JOIN unique_payment_type_per_order\n",
    "ON unique_payment_type_per_order.order_id = y.order_id AND unique_payment_type_per_order.row_no = y.row_no)\n",
    "SELECT *\n",
    "FROM payment\n",
    "\"\n",
    "C:\\Users\\PC\\Downloads\\bq-results-20220913-145101-1663080704434.csv"
   ]
  },
  {
   "cell_type": "markdown",
   "id": "4183dd74",
   "metadata": {},
   "source": [
    "So there only 2 combinations = credit and voucher or credit and debit card."
   ]
  },
  {
   "cell_type": "code",
   "execution_count": 76,
   "id": "ae95de33",
   "metadata": {},
   "outputs": [
    {
     "data": {
      "text/html": [
       "<div>\n",
       "<style scoped>\n",
       "    .dataframe tbody tr th:only-of-type {\n",
       "        vertical-align: middle;\n",
       "    }\n",
       "\n",
       "    .dataframe tbody tr th {\n",
       "        vertical-align: top;\n",
       "    }\n",
       "\n",
       "    .dataframe thead th {\n",
       "        text-align: right;\n",
       "    }\n",
       "</style>\n",
       "<table border=\"1\" class=\"dataframe\">\n",
       "  <thead>\n",
       "    <tr style=\"text-align: right;\">\n",
       "      <th></th>\n",
       "      <th>order_id</th>\n",
       "      <th>payment_value</th>\n",
       "      <th>payment_type_per_order</th>\n",
       "    </tr>\n",
       "  </thead>\n",
       "  <tbody>\n",
       "    <tr>\n",
       "      <th>0</th>\n",
       "      <td>a079628ac8002126e75f86b0f87332e4</td>\n",
       "      <td>50.00</td>\n",
       "      <td>credit_debit</td>\n",
       "    </tr>\n",
       "    <tr>\n",
       "      <th>1</th>\n",
       "      <td>012ea594e035047289b3e7c3f8b90cef</td>\n",
       "      <td>72.35</td>\n",
       "      <td>boleto</td>\n",
       "    </tr>\n",
       "    <tr>\n",
       "      <th>2</th>\n",
       "      <td>029a092ea19290f774d21c51fd7ac45f</td>\n",
       "      <td>117.01</td>\n",
       "      <td>boleto</td>\n",
       "    </tr>\n",
       "    <tr>\n",
       "      <th>3</th>\n",
       "      <td>02f886b28af7079755677a544bc54fda</td>\n",
       "      <td>124.14</td>\n",
       "      <td>boleto</td>\n",
       "    </tr>\n",
       "    <tr>\n",
       "      <th>4</th>\n",
       "      <td>03ebfa9712b7dbc7031291856263b314</td>\n",
       "      <td>55.78</td>\n",
       "      <td>boleto</td>\n",
       "    </tr>\n",
       "  </tbody>\n",
       "</table>\n",
       "</div>"
      ],
      "text/plain": [
       "                           order_id  payment_value payment_type_per_order\n",
       "0  a079628ac8002126e75f86b0f87332e4          50.00           credit_debit\n",
       "1  012ea594e035047289b3e7c3f8b90cef          72.35                 boleto\n",
       "2  029a092ea19290f774d21c51fd7ac45f         117.01                 boleto\n",
       "3  02f886b28af7079755677a544bc54fda         124.14                 boleto\n",
       "4  03ebfa9712b7dbc7031291856263b314          55.78                 boleto"
      ]
     },
     "execution_count": 76,
     "metadata": {},
     "output_type": "execute_result"
    }
   ],
   "source": [
    "payment_revised = pd.read_csv(r\"C:\\Users\\PC\\Downloads\\bq-results-20220913-145101-1663080704434.csv\")\n",
    "payment_revised.head()"
   ]
  },
  {
   "cell_type": "code",
   "execution_count": 77,
   "id": "6928fa72",
   "metadata": {},
   "outputs": [
    {
     "data": {
      "text/html": [
       "<div>\n",
       "<style scoped>\n",
       "    .dataframe tbody tr th:only-of-type {\n",
       "        vertical-align: middle;\n",
       "    }\n",
       "\n",
       "    .dataframe tbody tr th {\n",
       "        vertical-align: top;\n",
       "    }\n",
       "\n",
       "    .dataframe thead th {\n",
       "        text-align: right;\n",
       "    }\n",
       "</style>\n",
       "<table border=\"1\" class=\"dataframe\">\n",
       "  <thead>\n",
       "    <tr style=\"text-align: right;\">\n",
       "      <th></th>\n",
       "      <th>payment_value</th>\n",
       "      <th>order_id</th>\n",
       "    </tr>\n",
       "    <tr>\n",
       "      <th>payment_type_per_order</th>\n",
       "      <th></th>\n",
       "      <th></th>\n",
       "    </tr>\n",
       "  </thead>\n",
       "  <tbody>\n",
       "    <tr>\n",
       "      <th>boleto</th>\n",
       "      <td>2869361.27</td>\n",
       "      <td>19784</td>\n",
       "    </tr>\n",
       "    <tr>\n",
       "      <th>credit_card</th>\n",
       "      <td>12397278.59</td>\n",
       "      <td>74259</td>\n",
       "    </tr>\n",
       "    <tr>\n",
       "      <th>credit_debit</th>\n",
       "      <td>50.00</td>\n",
       "      <td>1</td>\n",
       "    </tr>\n",
       "    <tr>\n",
       "      <th>credit_voucher</th>\n",
       "      <td>194014.59</td>\n",
       "      <td>2245</td>\n",
       "    </tr>\n",
       "    <tr>\n",
       "      <th>debit_card</th>\n",
       "      <td>217939.79</td>\n",
       "      <td>1527</td>\n",
       "    </tr>\n",
       "    <tr>\n",
       "      <th>voucher</th>\n",
       "      <td>185422.28</td>\n",
       "      <td>1621</td>\n",
       "    </tr>\n",
       "  </tbody>\n",
       "</table>\n",
       "</div>"
      ],
      "text/plain": [
       "                        payment_value  order_id\n",
       "payment_type_per_order                         \n",
       "boleto                     2869361.27     19784\n",
       "credit_card               12397278.59     74259\n",
       "credit_debit                    50.00         1\n",
       "credit_voucher              194014.59      2245\n",
       "debit_card                  217939.79      1527\n",
       "voucher                     185422.28      1621"
      ]
     },
     "execution_count": 77,
     "metadata": {},
     "output_type": "execute_result"
    }
   ],
   "source": [
    "payment_revised.groupby('payment_type_per_order')[['payment_value', 'order_id']].agg({'payment_value':'sum', 'order_id':'count'})"
   ]
  },
  {
   "cell_type": "code",
   "execution_count": 78,
   "id": "d57ce284",
   "metadata": {
    "scrolled": false
   },
   "outputs": [
    {
     "data": {
      "text/plain": [
       "<AxesSubplot:ylabel='payment_value'>"
      ]
     },
     "execution_count": 78,
     "metadata": {},
     "output_type": "execute_result"
    },
    {
     "data": {
      "image/png": "[encoded data removed]",
      "text/plain": [
       "<Figure size 2880x720 with 1 Axes>"
      ]
     },
     "metadata": {},
     "output_type": "display_data"
    }
   ],
   "source": [
    "plt.figure(figsize=(40,10))\n",
    "payment_revised.groupby('payment_type_per_order')['payment_value'].sum().sort_values(ascending=False).plot(kind='pie')"
   ]
  },
  {
   "cell_type": "code",
   "execution_count": 79,
   "id": "b50db306",
   "metadata": {
    "scrolled": true
   },
   "outputs": [
    {
     "data": {
      "application/vnd.jupyter.widget-view+json": {
       "model_id": "203f06da67c6450a89635e8df174d8bd",
       "version_major": 2,
       "version_minor": 0
      },
      "text/plain": [
       "Report()"
      ]
     },
     "metadata": {},
     "output_type": "display_data"
    }
   ],
   "source": [
    "#payment_type by states\n",
    "payment_type_state = Report(group_id=\"d95c21f5-f6c7-4978-8d87-9c13e67c75e6\", report_id =\"fa280ebc-6d6c-4a52-9771-bc573f7c4b73\", access_token=access_token)\n",
    "payment_type_state"
   ]
  },
  {
   "cell_type": "markdown",
   "id": "75b514a1",
   "metadata": {},
   "source": [
    "Boleto and credit cards are most commonly used"
   ]
  },
  {
   "cell_type": "markdown",
   "id": "86a52841",
   "metadata": {},
   "source": [
    "Question: How are customers distributed?"
   ]
  },
  {
   "cell_type": "code",
   "execution_count": 80,
   "id": "0d20564d",
   "metadata": {
    "scrolled": true
   },
   "outputs": [
    {
     "data": {
      "application/vnd.jupyter.widget-view+json": {
       "model_id": "203f06da67c6450a89635e8df174d8bd",
       "version_major": 2,
       "version_minor": 0
      },
      "text/plain": [
       "Report()"
      ]
     },
     "metadata": {},
     "output_type": "display_data"
    }
   ],
   "source": [
    "#Values based on customer_latitide and longtitude\n",
    "payment_type_state"
   ]
  },
  {
   "cell_type": "markdown",
   "id": "597de2c2",
   "metadata": {},
   "source": [
    "Customers are concentrated in the southeast, coastal areas"
   ]
  },
  {
   "cell_type": "code",
   "execution_count": 81,
   "id": "ff4b4adf",
   "metadata": {},
   "outputs": [
    {
     "data": {
      "application/vnd.jupyter.widget-view+json": {
       "model_id": "203f06da67c6450a89635e8df174d8bd",
       "version_major": 2,
       "version_minor": 0
      },
      "text/plain": [
       "Report()"
      ]
     },
     "metadata": {},
     "output_type": "display_data"
    }
   ],
   "source": [
    "#Order size (avg price) and avg freight per order by states\n",
    "payment_type_state"
   ]
  },
  {
   "cell_type": "markdown",
   "id": "630c4360",
   "metadata": {},
   "source": [
    "There is a clear difference in shipping costs between the northern and southern states, this trend is also approximate when it comes to order value, but there are still some states in this region that do not have a big difference compared to the area below."
   ]
  },
  {
   "cell_type": "markdown",
   "id": "2e084610",
   "metadata": {},
   "source": [
    "Question: Do customers come back?"
   ]
  },
  {
   "cell_type": "code",
   "execution_count": 82,
   "id": "714fa0d8",
   "metadata": {},
   "outputs": [
    {
     "data": {
      "text/html": [
       "<div>\n",
       "<style scoped>\n",
       "    .dataframe tbody tr th:only-of-type {\n",
       "        vertical-align: middle;\n",
       "    }\n",
       "\n",
       "    .dataframe tbody tr th {\n",
       "        vertical-align: top;\n",
       "    }\n",
       "\n",
       "    .dataframe thead th {\n",
       "        text-align: right;\n",
       "    }\n",
       "</style>\n",
       "<table border=\"1\" class=\"dataframe\">\n",
       "  <thead>\n",
       "    <tr style=\"text-align: right;\">\n",
       "      <th></th>\n",
       "      <th>customer_id</th>\n",
       "      <th>customer_unique_id</th>\n",
       "      <th>customer_zip_code_prefix</th>\n",
       "      <th>customer_city</th>\n",
       "      <th>customer_state</th>\n",
       "    </tr>\n",
       "  </thead>\n",
       "  <tbody>\n",
       "    <tr>\n",
       "      <th>0</th>\n",
       "      <td>06b8999e2fba1a1fbc88172c00ba8bc7</td>\n",
       "      <td>861eff4711a542e4b93843c6dd7febb0</td>\n",
       "      <td>14409</td>\n",
       "      <td>franca</td>\n",
       "      <td>SP</td>\n",
       "    </tr>\n",
       "    <tr>\n",
       "      <th>1</th>\n",
       "      <td>18955e83d337fd6b2def6b18a428ac77</td>\n",
       "      <td>290c77bc529b7ac935b93aa66c333dc3</td>\n",
       "      <td>9790</td>\n",
       "      <td>sao bernardo do campo</td>\n",
       "      <td>SP</td>\n",
       "    </tr>\n",
       "    <tr>\n",
       "      <th>2</th>\n",
       "      <td>4e7b3e00288586ebd08712fdd0374a03</td>\n",
       "      <td>060e732b5b29e8181a18229c7b0b2b5e</td>\n",
       "      <td>1151</td>\n",
       "      <td>sao paulo</td>\n",
       "      <td>SP</td>\n",
       "    </tr>\n",
       "    <tr>\n",
       "      <th>3</th>\n",
       "      <td>b2b6027bc5c5109e529d4dc6358b12c3</td>\n",
       "      <td>259dac757896d24d7702b9acbbff3f3c</td>\n",
       "      <td>8775</td>\n",
       "      <td>mogi das cruzes</td>\n",
       "      <td>SP</td>\n",
       "    </tr>\n",
       "    <tr>\n",
       "      <th>4</th>\n",
       "      <td>4f2d8ab171c80ec8364f7c12e35b23ad</td>\n",
       "      <td>345ecd01c38d18a9036ed96c73b8d066</td>\n",
       "      <td>13056</td>\n",
       "      <td>campinas</td>\n",
       "      <td>SP</td>\n",
       "    </tr>\n",
       "  </tbody>\n",
       "</table>\n",
       "</div>"
      ],
      "text/plain": [
       "                        customer_id                customer_unique_id  \\\n",
       "0  06b8999e2fba1a1fbc88172c00ba8bc7  861eff4711a542e4b93843c6dd7febb0   \n",
       "1  18955e83d337fd6b2def6b18a428ac77  290c77bc529b7ac935b93aa66c333dc3   \n",
       "2  4e7b3e00288586ebd08712fdd0374a03  060e732b5b29e8181a18229c7b0b2b5e   \n",
       "3  b2b6027bc5c5109e529d4dc6358b12c3  259dac757896d24d7702b9acbbff3f3c   \n",
       "4  4f2d8ab171c80ec8364f7c12e35b23ad  345ecd01c38d18a9036ed96c73b8d066   \n",
       "\n",
       "   customer_zip_code_prefix          customer_city customer_state  \n",
       "0                     14409                 franca             SP  \n",
       "1                      9790  sao bernardo do campo             SP  \n",
       "2                      1151              sao paulo             SP  \n",
       "3                      8775        mogi das cruzes             SP  \n",
       "4                     13056               campinas             SP  "
      ]
     },
     "execution_count": 82,
     "metadata": {},
     "output_type": "execute_result"
    }
   ],
   "source": [
    "#customer type\n",
    "customer.head()"
   ]
  },
  {
   "cell_type": "markdown",
   "id": "027f01f9",
   "metadata": {},
   "source": [
    "-- create buy_time table with number of time they make purchase.\n",
    "WITH orders AS (\n",
    "  SELECT *, \n",
    "    CASE WHEN day_difference < 0 THEN 1\n",
    "    ELSE 0 END AS is_late,\n",
    "    CASE WHEN day_difference < 0 THEN day_difference*(-1)\n",
    "    ELSE NULL END AS late_time\n",
    "  FROM(\n",
    "    SELECT *,\n",
    "         date_diff(order_delivered_customer_date, order_purchase_timestamp, day) AS process_time,\n",
    "         date_diff(order_estimated_delivery_date, order_delivered_customer_date, day) AS day_difference,\n",
    "         date_diff(order_approved_at, order_purchase_timestamp, day) AS approve_time,\n",
    "         date_diff(order_delivered_carrier_date, order_purchase_timestamp, day) AS seller_process_time,\n",
    "         date_diff(order_delivered_customer_date, order_delivered_carrier_date, day) AS logistics_time,\n",
    "        \n",
    "         format_date(\"%Y%m\", order_purchase_timestamp) AS month --base on the time of purchase--\n",
    "\n",
    "    FROM `hien-348414.Ecommerce220822.olist_orders_dataset`\n",
    "    WHERE order_delivered_customer_date IS NOT NULL AND order_approved_at IS NOT NULL AND order_delivered_carrier_date IS NOT NULL AND (order_status = 'delivered' OR order_status = 'canceled')) AS a),\n",
    "\n",
    "\n",
    "geolocation AS(\n",
    "SELECT geolocation_zip_code_prefix, avg(geolocation_lat) AS geolocation_lat, avg(geolocation_lng) AS geolocation_lng\n",
    "FROM `hien-348414.Ecommerce220822.olist_geolocation_dataset`\n",
    "GROUP BY geolocation_zip_code_prefix),\n",
    "\n",
    "order_customer_geo AS(\n",
    "  SELECT  o.*, \n",
    "\n",
    "          c.customer_state AS cus_state, \n",
    "          c.customer_city AS customer_city,  \n",
    "\n",
    "          \n",
    "          g.geolocation_lat AS cus_lat, \n",
    "          g.geolocation_lng AS cus_lng, \n",
    "       \n",
    "\n",
    "  FROM orders AS o\n",
    "  JOIN `hien-348414.Ecommerce220822.olist_customers_dataset` AS c\n",
    "  ON o.customer_id = c.customer_id \n",
    "  JOIN geolocation AS g\n",
    "  ON c.customer_zip_code_prefix = g.geolocation_zip_code_prefix\n",
    "WHERE order_purchase_timestamp BETWEEN '2017-01-01 00:00:00 UTC' AND '2018-08-31 23:59:59 UTC'\n",
    "AND process_time >= 0 AND approve_time >= 0 AND seller_process_time >= 0 AND logistics_time >= 0  \n",
    "),\n",
    "buy_time AS (\n",
    "SELECT b.*, ocg.order_purchase_timestamp, ROW_NUMBER() OVER(PARTITION BY b.customer_unique_id ORDER BY ocg.order_purchase_timestamp) AS row_no\n",
    "FROM `hien-348414.Ecommerce220822.olist_customers_dataset` as b\n",
    "JOIN order_customer_geo as ocg\n",
    "ON b.customer_id = ocg.customer_id)\n",
    "\n",
    "SELECT *\n",
    "FROM buy_time\n"
   ]
  },
  {
   "cell_type": "code",
   "execution_count": 83,
   "id": "32da9421",
   "metadata": {},
   "outputs": [
    {
     "name": "stderr",
     "output_type": "stream",
     "text": [
      "C:\\Users\\PC\\AppData\\Local\\Temp\\ipykernel_8488\\3837115064.py:1: DtypeWarning: Columns (14) have mixed types. Specify dtype option on import or set low_memory=False.\n",
      "  buy_time = pd.read_csv(r\"C:\\Users\\PC\\Downloads\\bq-results-20220914-052520-1663133154014.csv\")\n"
     ]
    }
   ],
   "source": [
    "buy_time = pd.read_csv(r\"C:\\Users\\PC\\Downloads\\bq-results-20220914-052520-1663133154014.csv\")"
   ]
  },
  {
   "cell_type": "code",
   "execution_count": 84,
   "id": "c18d06b9",
   "metadata": {},
   "outputs": [
    {
     "data": {
      "text/html": [
       "<div>\n",
       "<style scoped>\n",
       "    .dataframe tbody tr th:only-of-type {\n",
       "        vertical-align: middle;\n",
       "    }\n",
       "\n",
       "    .dataframe tbody tr th {\n",
       "        vertical-align: top;\n",
       "    }\n",
       "\n",
       "    .dataframe thead th {\n",
       "        text-align: right;\n",
       "    }\n",
       "</style>\n",
       "<table border=\"1\" class=\"dataframe\">\n",
       "  <thead>\n",
       "    <tr style=\"text-align: right;\">\n",
       "      <th></th>\n",
       "      <th>customer_unique_id</th>\n",
       "      <th>no_of_total_purchase</th>\n",
       "    </tr>\n",
       "  </thead>\n",
       "  <tbody>\n",
       "    <tr>\n",
       "      <th>0</th>\n",
       "      <td>0000366f3b9a7992bf8c76cfdf3221e2</td>\n",
       "      <td>1</td>\n",
       "    </tr>\n",
       "    <tr>\n",
       "      <th>1</th>\n",
       "      <td>0000b849f77a49e4a4ce2b2a4ca5be3f</td>\n",
       "      <td>1</td>\n",
       "    </tr>\n",
       "    <tr>\n",
       "      <th>2</th>\n",
       "      <td>0000f46a3911fa3c0805444483337064</td>\n",
       "      <td>1</td>\n",
       "    </tr>\n",
       "    <tr>\n",
       "      <th>3</th>\n",
       "      <td>0000f6ccb0745a6a4b88665a16c9f078</td>\n",
       "      <td>1</td>\n",
       "    </tr>\n",
       "    <tr>\n",
       "      <th>4</th>\n",
       "      <td>0004aac84e0df4da2b147fca70cf8255</td>\n",
       "      <td>1</td>\n",
       "    </tr>\n",
       "  </tbody>\n",
       "</table>\n",
       "</div>"
      ],
      "text/plain": [
       "                 customer_unique_id  no_of_total_purchase\n",
       "0  0000366f3b9a7992bf8c76cfdf3221e2                     1\n",
       "1  0000b849f77a49e4a4ce2b2a4ca5be3f                     1\n",
       "2  0000f46a3911fa3c0805444483337064                     1\n",
       "3  0000f6ccb0745a6a4b88665a16c9f078                     1\n",
       "4  0004aac84e0df4da2b147fca70cf8255                     1"
      ]
     },
     "execution_count": 84,
     "metadata": {},
     "output_type": "execute_result"
    }
   ],
   "source": [
    "#Purchase times per customers\n",
    "purchase_time_per_cus = pd.DataFrame(buy_time.groupby('customer_unique_id')['row_no'].max()).reset_index()\n",
    "purchase_time_per_cus = purchase_time_per_cus.rename(columns = {'row_no': 'no_of_total_purchase'})\n",
    "purchase_time_per_cus.head()"
   ]
  },
  {
   "cell_type": "code",
   "execution_count": 85,
   "id": "5f6923b0",
   "metadata": {},
   "outputs": [
    {
     "data": {
      "text/html": [
       "<div>\n",
       "<style scoped>\n",
       "    .dataframe tbody tr th:only-of-type {\n",
       "        vertical-align: middle;\n",
       "    }\n",
       "\n",
       "    .dataframe tbody tr th {\n",
       "        vertical-align: top;\n",
       "    }\n",
       "\n",
       "    .dataframe thead th {\n",
       "        text-align: right;\n",
       "    }\n",
       "</style>\n",
       "<table border=\"1\" class=\"dataframe\">\n",
       "  <thead>\n",
       "    <tr style=\"text-align: right;\">\n",
       "      <th></th>\n",
       "      <th>customer_id</th>\n",
       "      <th>customer_unique_id</th>\n",
       "      <th>customer_zip_code_prefix</th>\n",
       "      <th>customer_city</th>\n",
       "      <th>customer_state</th>\n",
       "      <th>order_purchase_timestamp</th>\n",
       "      <th>row_no</th>\n",
       "      <th>one</th>\n",
       "      <th>two</th>\n",
       "      <th>three</th>\n",
       "      <th>four</th>\n",
       "      <th>five</th>\n",
       "      <th>six</th>\n",
       "      <th>seven</th>\n",
       "      <th>nine</th>\n",
       "      <th>seven_teen</th>\n",
       "      <th>no_of_total_purchase</th>\n",
       "    </tr>\n",
       "  </thead>\n",
       "  <tbody>\n",
       "    <tr>\n",
       "      <th>0</th>\n",
       "      <td>0a791c41f6f639d2cdeba44d05e6ef04</td>\n",
       "      <td>002ae492472e45ad6ebeb7a625409392</td>\n",
       "      <td>72547</td>\n",
       "      <td>brasilia</td>\n",
       "      <td>DF</td>\n",
       "      <td>2017-10-08 23:56:02 UTC</td>\n",
       "      <td>1</td>\n",
       "      <td>2017-10-08 23:56:02 UTC</td>\n",
       "      <td>NaN</td>\n",
       "      <td>NaN</td>\n",
       "      <td>NaN</td>\n",
       "      <td>NaN</td>\n",
       "      <td>NaN</td>\n",
       "      <td>NaN</td>\n",
       "      <td>NaN</td>\n",
       "      <td>NaN</td>\n",
       "      <td>1</td>\n",
       "    </tr>\n",
       "    <tr>\n",
       "      <th>1</th>\n",
       "      <td>ef9b3510ba80873dd2e3fd3984ad1665</td>\n",
       "      <td>01541e2754a6e7830b2871d7191d27e2</td>\n",
       "      <td>97040</td>\n",
       "      <td>santa maria</td>\n",
       "      <td>RS</td>\n",
       "      <td>2018-08-11 09:50:14 UTC</td>\n",
       "      <td>1</td>\n",
       "      <td>2018-08-11 09:50:14 UTC</td>\n",
       "      <td>NaN</td>\n",
       "      <td>NaN</td>\n",
       "      <td>NaN</td>\n",
       "      <td>NaN</td>\n",
       "      <td>NaN</td>\n",
       "      <td>NaN</td>\n",
       "      <td>NaN</td>\n",
       "      <td>NaN</td>\n",
       "      <td>1</td>\n",
       "    </tr>\n",
       "    <tr>\n",
       "      <th>2</th>\n",
       "      <td>61238ee709250f8eba322d023775d9cb</td>\n",
       "      <td>0189cca3aa2a0f75ca0cde94ee38be57</td>\n",
       "      <td>85885</td>\n",
       "      <td>serranopolis do iguacu</td>\n",
       "      <td>PR</td>\n",
       "      <td>2017-06-05 21:32:39 UTC</td>\n",
       "      <td>1</td>\n",
       "      <td>2017-06-05 21:32:39 UTC</td>\n",
       "      <td>NaN</td>\n",
       "      <td>NaN</td>\n",
       "      <td>NaN</td>\n",
       "      <td>NaN</td>\n",
       "      <td>NaN</td>\n",
       "      <td>NaN</td>\n",
       "      <td>NaN</td>\n",
       "      <td>NaN</td>\n",
       "      <td>1</td>\n",
       "    </tr>\n",
       "    <tr>\n",
       "      <th>3</th>\n",
       "      <td>4843a74362dd438d2035ac91d8ab5bbe</td>\n",
       "      <td>023a67e0df63273fa1f49cd71fd3eb61</td>\n",
       "      <td>51170</td>\n",
       "      <td>recife</td>\n",
       "      <td>PE</td>\n",
       "      <td>2018-03-28 11:22:10 UTC</td>\n",
       "      <td>1</td>\n",
       "      <td>2018-03-28 11:22:10 UTC</td>\n",
       "      <td>NaN</td>\n",
       "      <td>NaN</td>\n",
       "      <td>NaN</td>\n",
       "      <td>NaN</td>\n",
       "      <td>NaN</td>\n",
       "      <td>NaN</td>\n",
       "      <td>NaN</td>\n",
       "      <td>NaN</td>\n",
       "      <td>1</td>\n",
       "    </tr>\n",
       "    <tr>\n",
       "      <th>4</th>\n",
       "      <td>13be93651c09a42decee6be064c4ee6f</td>\n",
       "      <td>02b7e451968fd1f2793047ff025d18dc</td>\n",
       "      <td>89400</td>\n",
       "      <td>porto uniao</td>\n",
       "      <td>SC</td>\n",
       "      <td>2017-03-13 23:05:19 UTC</td>\n",
       "      <td>1</td>\n",
       "      <td>2017-03-13 23:05:19 UTC</td>\n",
       "      <td>NaN</td>\n",
       "      <td>NaN</td>\n",
       "      <td>NaN</td>\n",
       "      <td>NaN</td>\n",
       "      <td>NaN</td>\n",
       "      <td>NaN</td>\n",
       "      <td>NaN</td>\n",
       "      <td>NaN</td>\n",
       "      <td>1</td>\n",
       "    </tr>\n",
       "  </tbody>\n",
       "</table>\n",
       "</div>"
      ],
      "text/plain": [
       "                        customer_id                customer_unique_id  \\\n",
       "0  0a791c41f6f639d2cdeba44d05e6ef04  002ae492472e45ad6ebeb7a625409392   \n",
       "1  ef9b3510ba80873dd2e3fd3984ad1665  01541e2754a6e7830b2871d7191d27e2   \n",
       "2  61238ee709250f8eba322d023775d9cb  0189cca3aa2a0f75ca0cde94ee38be57   \n",
       "3  4843a74362dd438d2035ac91d8ab5bbe  023a67e0df63273fa1f49cd71fd3eb61   \n",
       "4  13be93651c09a42decee6be064c4ee6f  02b7e451968fd1f2793047ff025d18dc   \n",
       "\n",
       "   customer_zip_code_prefix           customer_city customer_state  \\\n",
       "0                     72547                brasilia             DF   \n",
       "1                     97040             santa maria             RS   \n",
       "2                     85885  serranopolis do iguacu             PR   \n",
       "3                     51170                  recife             PE   \n",
       "4                     89400             porto uniao             SC   \n",
       "\n",
       "  order_purchase_timestamp  row_no                      one  two three four  \\\n",
       "0  2017-10-08 23:56:02 UTC       1  2017-10-08 23:56:02 UTC  NaN   NaN  NaN   \n",
       "1  2018-08-11 09:50:14 UTC       1  2018-08-11 09:50:14 UTC  NaN   NaN  NaN   \n",
       "2  2017-06-05 21:32:39 UTC       1  2017-06-05 21:32:39 UTC  NaN   NaN  NaN   \n",
       "3  2018-03-28 11:22:10 UTC       1  2018-03-28 11:22:10 UTC  NaN   NaN  NaN   \n",
       "4  2017-03-13 23:05:19 UTC       1  2017-03-13 23:05:19 UTC  NaN   NaN  NaN   \n",
       "\n",
       "  five  six seven nine  seven_teen  no_of_total_purchase  \n",
       "0  NaN  NaN   NaN  NaN         NaN                     1  \n",
       "1  NaN  NaN   NaN  NaN         NaN                     1  \n",
       "2  NaN  NaN   NaN  NaN         NaN                     1  \n",
       "3  NaN  NaN   NaN  NaN         NaN                     1  \n",
       "4  NaN  NaN   NaN  NaN         NaN                     1  "
      ]
     },
     "execution_count": 85,
     "metadata": {},
     "output_type": "execute_result"
    }
   ],
   "source": [
    "customer_by_purchase_time = buy_time.merge(purchase_time_per_cus, how = 'inner', on='customer_unique_id')\n",
    "customer_by_purchase_time.head()\n"
   ]
  },
  {
   "cell_type": "code",
   "execution_count": 86,
   "id": "4e41b390",
   "metadata": {},
   "outputs": [
    {
     "data": {
      "text/plain": [
       "no_of_total_purchase\n",
       "1     93.878572\n",
       "2      5.319626\n",
       "3      0.559906\n",
       "4      0.116777\n",
       "5      0.046919\n",
       "6      0.031280\n",
       "7      0.021896\n",
       "9      0.009384\n",
       "15     0.015640\n",
       "Name: customer_unique_id, dtype: float64"
      ]
     },
     "execution_count": 86,
     "metadata": {},
     "output_type": "execute_result"
    }
   ],
   "source": [
    "#Segment customers\n",
    "customer_by_purchase_time.groupby('no_of_total_purchase')['customer_unique_id'].count() * 100 / customer_by_purchase_time['customer_unique_id'].count()"
   ]
  },
  {
   "cell_type": "markdown",
   "id": "089c6ae2",
   "metadata": {},
   "source": [
    "There are nearly 94% customers who only buy once during the period of this dataset"
   ]
  },
  {
   "cell_type": "code",
   "execution_count": 87,
   "id": "c6ad898f",
   "metadata": {},
   "outputs": [
    {
     "data": {
      "text/plain": [
       "<AxesSubplot:xlabel='no_of_total_purchase'>"
      ]
     },
     "execution_count": 87,
     "metadata": {},
     "output_type": "execute_result"
    },
    {
     "data": {
      "image/png": "[encoded data removed]",
      "text/plain": [
       "<Figure size 432x288 with 1 Axes>"
      ]
     },
     "metadata": {
      "needs_background": "light"
     },
     "output_type": "display_data"
    }
   ],
   "source": [
    "\n",
    "customer_by_purchase_time.groupby('no_of_total_purchase')['customer_unique_id'].count().plot(kind='bar')"
   ]
  },
  {
   "cell_type": "markdown",
   "id": "7cfe6a30",
   "metadata": {},
   "source": [
    "Questions: Do customers tend to buy the same group of products when they repurchase?"
   ]
  },
  {
   "cell_type": "code",
   "execution_count": 90,
   "id": "5f081f76",
   "metadata": {},
   "outputs": [
    {
     "data": {
      "text/html": [
       "<div>\n",
       "<style scoped>\n",
       "    .dataframe tbody tr th:only-of-type {\n",
       "        vertical-align: middle;\n",
       "    }\n",
       "\n",
       "    .dataframe tbody tr th {\n",
       "        vertical-align: top;\n",
       "    }\n",
       "\n",
       "    .dataframe thead th {\n",
       "        text-align: right;\n",
       "    }\n",
       "</style>\n",
       "<table border=\"1\" class=\"dataframe\">\n",
       "  <thead>\n",
       "    <tr style=\"text-align: right;\">\n",
       "      <th></th>\n",
       "      <th>mean</th>\n",
       "      <th>median</th>\n",
       "      <th>max</th>\n",
       "      <th>min</th>\n",
       "    </tr>\n",
       "    <tr>\n",
       "      <th>no_of_total_purchase</th>\n",
       "      <th></th>\n",
       "      <th></th>\n",
       "      <th></th>\n",
       "      <th></th>\n",
       "    </tr>\n",
       "  </thead>\n",
       "  <tbody>\n",
       "    <tr>\n",
       "      <th>1</th>\n",
       "      <td>0.993158</td>\n",
       "      <td>1.0</td>\n",
       "      <td>3</td>\n",
       "      <td>0</td>\n",
       "    </tr>\n",
       "    <tr>\n",
       "      <th>2</th>\n",
       "      <td>1.541748</td>\n",
       "      <td>2.0</td>\n",
       "      <td>3</td>\n",
       "      <td>0</td>\n",
       "    </tr>\n",
       "    <tr>\n",
       "      <th>3</th>\n",
       "      <td>2.005587</td>\n",
       "      <td>2.0</td>\n",
       "      <td>4</td>\n",
       "      <td>1</td>\n",
       "    </tr>\n",
       "    <tr>\n",
       "      <th>4</th>\n",
       "      <td>2.142857</td>\n",
       "      <td>2.0</td>\n",
       "      <td>4</td>\n",
       "      <td>1</td>\n",
       "    </tr>\n",
       "    <tr>\n",
       "      <th>5</th>\n",
       "      <td>3.111111</td>\n",
       "      <td>3.0</td>\n",
       "      <td>5</td>\n",
       "      <td>2</td>\n",
       "    </tr>\n",
       "    <tr>\n",
       "      <th>6</th>\n",
       "      <td>3.400000</td>\n",
       "      <td>3.0</td>\n",
       "      <td>5</td>\n",
       "      <td>2</td>\n",
       "    </tr>\n",
       "    <tr>\n",
       "      <th>7</th>\n",
       "      <td>3.333333</td>\n",
       "      <td>4.0</td>\n",
       "      <td>5</td>\n",
       "      <td>1</td>\n",
       "    </tr>\n",
       "    <tr>\n",
       "      <th>9</th>\n",
       "      <td>5.000000</td>\n",
       "      <td>5.0</td>\n",
       "      <td>5</td>\n",
       "      <td>5</td>\n",
       "    </tr>\n",
       "    <tr>\n",
       "      <th>15</th>\n",
       "      <td>3.000000</td>\n",
       "      <td>3.0</td>\n",
       "      <td>3</td>\n",
       "      <td>3</td>\n",
       "    </tr>\n",
       "  </tbody>\n",
       "</table>\n",
       "</div>"
      ],
      "text/plain": [
       "                          mean  median  max  min\n",
       "no_of_total_purchase                            \n",
       "1                     0.993158     1.0    3    0\n",
       "2                     1.541748     2.0    3    0\n",
       "3                     2.005587     2.0    4    1\n",
       "4                     2.142857     2.0    4    1\n",
       "5                     3.111111     3.0    5    2\n",
       "6                     3.400000     3.0    5    2\n",
       "7                     3.333333     4.0    5    1\n",
       "9                     5.000000     5.0    5    5\n",
       "15                    3.000000     3.0    3    3"
      ]
     },
     "execution_count": 90,
     "metadata": {},
     "output_type": "execute_result"
    }
   ],
   "source": [
    "#group of customers that buy x times\n",
    "\n",
    "cus_item = customer_by_purchase_time.merge(items_orders, how='inner', on='customer_id')\n",
    "data = pd.DataFrame(cus_item.groupby(['no_of_total_purchase', 'customer_unique_id'])['product_category_name'].nunique())\n",
    "data = data.reset_index()\n",
    "data.groupby('no_of_total_purchase')['product_category_name'].agg(['mean', 'median', 'max', 'min'])"
   ]
  },
  {
   "cell_type": "markdown",
   "id": "586d2158",
   "metadata": {},
   "source": [
    "Returning customers tend to diversify their shopping carts when they come back."
   ]
  },
  {
   "cell_type": "markdown",
   "id": "541e561e",
   "metadata": {},
   "source": [
    "Question: How often do repeat customers (buying 2 or more) buy?"
   ]
  },
  {
   "cell_type": "code",
   "execution_count": 91,
   "id": "7f88ed3d",
   "metadata": {
    "scrolled": false
   },
   "outputs": [
    {
     "name": "stderr",
     "output_type": "stream",
     "text": [
      "C:\\Users\\PC\\anaconda3\\lib\\site-packages\\pandas\\core\\arrays\\datetimes.py:1162: UserWarning: Converting to PeriodArray/Index representation will drop timezone information.\n",
      "  warnings.warn(\n"
     ]
    },
    {
     "data": {
      "text/plain": [
       "count    7146.000000\n",
       "mean        2.154632\n",
       "std         1.745458\n",
       "min         1.000000\n",
       "25%         1.000000\n",
       "50%         2.000000\n",
       "75%         2.000000\n",
       "max        24.000000\n",
       "Name: frequency, dtype: float64"
      ]
     },
     "execution_count": 91,
     "metadata": {},
     "output_type": "execute_result"
    }
   ],
   "source": [
    "#table of repetitive customers with number of total purchase more than 1 time\n",
    "cus_item_2 = customer_by_purchase_time.merge(items_orders, how='inner', on='customer_id')\n",
    "cus_item_2 = cus_item_2[cus_item_2['no_of_total_purchase'] > 1]\n",
    "cus_item_2['order_purchase_timestamp_x'] = pd.to_datetime(cus_item_2['order_purchase_timestamp_x'])\n",
    "cus_item_2['quarter'] = cus_item_2['order_purchase_timestamp_x'].dt.to_period('Q')\n",
    "cus_item_2['frequency'] = cus_item_2.groupby('customer_unique_id')['quarter'].rank(method='first')\n",
    "cus_item_2['frequency'].describe()\n"
   ]
  },
  {
   "cell_type": "markdown",
   "id": "cd9bd593",
   "metadata": {},
   "source": [
    "On average, they buy about 2 times a quarter."
   ]
  },
  {
   "cell_type": "markdown",
   "id": "4da14304",
   "metadata": {},
   "source": [
    "Question: How does the group of customers who buy more than once active?"
   ]
  },
  {
   "cell_type": "code",
   "execution_count": 92,
   "id": "da449a63",
   "metadata": {},
   "outputs": [
    {
     "data": {
      "text/plain": [
       "<AxesSubplot:xlabel='month'>"
      ]
     },
     "execution_count": 92,
     "metadata": {},
     "output_type": "execute_result"
    },
    {
     "data": {
      "image/png": "[encoded data removed]",
      "text/plain": [
       "<Figure size 432x288 with 1 Axes>"
      ]
     },
     "metadata": {
      "needs_background": "light"
     },
     "output_type": "display_data"
    }
   ],
   "source": [
    "#Product values of repet customers to total\n",
    "(cus_item_2.groupby('month')['price'].sum() / items_orders.groupby('month')['price'].sum()).plot(kind='bar')"
   ]
  },
  {
   "cell_type": "code",
   "execution_count": 93,
   "id": "8207a4a3",
   "metadata": {
    "scrolled": true
   },
   "outputs": [
    {
     "data": {
      "text/plain": [
       "<AxesSubplot:xlabel='month'>"
      ]
     },
     "execution_count": 93,
     "metadata": {},
     "output_type": "execute_result"
    },
    {
     "data": {
      "image/png": "[encoded data removed]",
      "text/plain": [
       "<Figure size 432x288 with 1 Axes>"
      ]
     },
     "metadata": {
      "needs_background": "light"
     },
     "output_type": "display_data"
    }
   ],
   "source": [
    "#Order of repet customers to total\n",
    "(cus_item_2.groupby('month')['order_id'].nunique() / items_orders.groupby('month')['order_id'].nunique()).plot(kind='bar')"
   ]
  },
  {
   "cell_type": "markdown",
   "id": "1c619253",
   "metadata": {},
   "source": [
    "The group of repeat customers tends to buy less over time."
   ]
  }
 ],
 "metadata": {
  "kernelspec": {
   "display_name": "Python 3 (ipykernel)",
   "language": "python",
   "name": "python3"
  },
  "language_info": {
   "codemirror_mode": {
    "name": "ipython",
    "version": 3
   },
   "file_extension": ".py",
   "mimetype": "text/x-python",
   "name": "python",
   "nbconvert_exporter": "python",
   "pygments_lexer": "ipython3",
   "version": "3.9.12"
  }
 },
 "nbformat": 4,
 "nbformat_minor": 5
}
